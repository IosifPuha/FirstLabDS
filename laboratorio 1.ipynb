{
 "cells": [
  {
   "cell_type": "markdown",
   "metadata": {
    "id": "chtT18rhZV9f"
   },
   "source": [
    "# Laboratorio 1\n",
    "\n",
    "# Preparazione del dato: pulizia e integrazione (prova aggiornamento da Binder)\n",
    "\n",
    "06/03/2024"
   ]
  },
  {
   "cell_type": "markdown",
   "metadata": {
    "id": "40pWER7sZV9g"
   },
   "source": [
    "In questo laboratorio impareremo a trattare dati provenienti da sorgenti diverse, cercando di ottenere informazioni integrate e complete. \n",
    "Come esempio, ci concentreremo su dati riguardanti film e serie tv dei maggiori servizi di streaming. "
   ]
  },
  {
   "cell_type": "code",
   "execution_count": 1,
   "metadata": {
    "id": "ARzfzX9HZV9h",
    "tags": []
   },
   "outputs": [],
   "source": [
    "import pandas as pd"
   ]
  },
  {
   "cell_type": "markdown",
   "metadata": {
    "id": "mYPdJ9ozZV9h"
   },
   "source": [
    "### Carico i dati di Netflix"
   ]
  },
  {
   "cell_type": "code",
   "execution_count": 2,
   "metadata": {
    "id": "HkyV4rGiZV9h",
    "tags": []
   },
   "outputs": [],
   "source": [
    "netflix_titles = pd.read_csv(\"netflix_titles.csv\")"
   ]
  },
  {
   "cell_type": "markdown",
   "metadata": {
    "id": "6F2YBbjqZV9h"
   },
   "source": [
    "Diamo un'occhiata a come è organizzato il dataset"
   ]
  },
  {
   "cell_type": "code",
   "execution_count": 3,
   "metadata": {
    "id": "FZxLC5OXZV9h",
    "scrolled": true,
    "tags": []
   },
   "outputs": [
    {
     "data": {
      "text/html": [
       "<div>\n",
       "<style scoped>\n",
       "    .dataframe tbody tr th:only-of-type {\n",
       "        vertical-align: middle;\n",
       "    }\n",
       "\n",
       "    .dataframe tbody tr th {\n",
       "        vertical-align: top;\n",
       "    }\n",
       "\n",
       "    .dataframe thead th {\n",
       "        text-align: right;\n",
       "    }\n",
       "</style>\n",
       "<table border=\"1\" class=\"dataframe\">\n",
       "  <thead>\n",
       "    <tr style=\"text-align: right;\">\n",
       "      <th></th>\n",
       "      <th>Unnamed: 0</th>\n",
       "      <th>id</th>\n",
       "      <th>title</th>\n",
       "      <th>type</th>\n",
       "      <th>release_year</th>\n",
       "      <th>age_certification</th>\n",
       "      <th>runtime</th>\n",
       "      <th>genres</th>\n",
       "      <th>production_countries</th>\n",
       "      <th>seasons</th>\n",
       "      <th>...</th>\n",
       "      <th>tmdb_popularity</th>\n",
       "      <th>tmdb_score</th>\n",
       "      <th>director</th>\n",
       "      <th>cast</th>\n",
       "      <th>country</th>\n",
       "      <th>date_added</th>\n",
       "      <th>rating</th>\n",
       "      <th>duration</th>\n",
       "      <th>listed_in</th>\n",
       "      <th>description</th>\n",
       "    </tr>\n",
       "  </thead>\n",
       "  <tbody>\n",
       "    <tr>\n",
       "      <th>0</th>\n",
       "      <td>0</td>\n",
       "      <td>ts300399</td>\n",
       "      <td>Five Came Back: The Reference Films</td>\n",
       "      <td>SHOW</td>\n",
       "      <td>1945</td>\n",
       "      <td>TV-MA</td>\n",
       "      <td>51</td>\n",
       "      <td>['documentation']</td>\n",
       "      <td>['US']</td>\n",
       "      <td>1.0</td>\n",
       "      <td>...</td>\n",
       "      <td>0.601</td>\n",
       "      <td>NaN</td>\n",
       "      <td>NaN</td>\n",
       "      <td>NaN</td>\n",
       "      <td>United States</td>\n",
       "      <td>February 9, 2021</td>\n",
       "      <td>TV-MA</td>\n",
       "      <td>1 Season</td>\n",
       "      <td>TV Shows</td>\n",
       "      <td>This collection includes 12 World War II-era p...</td>\n",
       "    </tr>\n",
       "    <tr>\n",
       "      <th>1</th>\n",
       "      <td>1</td>\n",
       "      <td>tm82169</td>\n",
       "      <td>Rocky</td>\n",
       "      <td>MOVIE</td>\n",
       "      <td>1976</td>\n",
       "      <td>PG</td>\n",
       "      <td>119</td>\n",
       "      <td>['drama', 'sport']</td>\n",
       "      <td>['US']</td>\n",
       "      <td>NaN</td>\n",
       "      <td>...</td>\n",
       "      <td>99.713</td>\n",
       "      <td>7.783</td>\n",
       "      <td>John G. Avildsen</td>\n",
       "      <td>Sylvester Stallone, Talia Shire, Burt Young, C...</td>\n",
       "      <td>United States</td>\n",
       "      <td>August 1, 2019</td>\n",
       "      <td>PG</td>\n",
       "      <td>120 min</td>\n",
       "      <td>Action &amp; Adventure, Classic Movies, Dramas</td>\n",
       "      <td>Sylvester Stallone shot to fame as Rocky Balbo...</td>\n",
       "    </tr>\n",
       "    <tr>\n",
       "      <th>2</th>\n",
       "      <td>2</td>\n",
       "      <td>tm17823</td>\n",
       "      <td>Grease</td>\n",
       "      <td>MOVIE</td>\n",
       "      <td>1978</td>\n",
       "      <td>PG</td>\n",
       "      <td>110</td>\n",
       "      <td>['comedy', 'romance']</td>\n",
       "      <td>['US']</td>\n",
       "      <td>NaN</td>\n",
       "      <td>...</td>\n",
       "      <td>33.160</td>\n",
       "      <td>7.406</td>\n",
       "      <td>Randal Kleiser</td>\n",
       "      <td>John Travolta, Olivia Newton-John, Stockard Ch...</td>\n",
       "      <td>United States</td>\n",
       "      <td>November 1, 2019</td>\n",
       "      <td>PG</td>\n",
       "      <td>110 min</td>\n",
       "      <td>Classic Movies, Comedies, Music &amp; Musicals</td>\n",
       "      <td>John Travolta and Olivia Newton-John star in t...</td>\n",
       "    </tr>\n",
       "    <tr>\n",
       "      <th>3</th>\n",
       "      <td>3</td>\n",
       "      <td>tm69975</td>\n",
       "      <td>Rocky II</td>\n",
       "      <td>MOVIE</td>\n",
       "      <td>1979</td>\n",
       "      <td>PG</td>\n",
       "      <td>119</td>\n",
       "      <td>['drama', 'sport']</td>\n",
       "      <td>['US']</td>\n",
       "      <td>NaN</td>\n",
       "      <td>...</td>\n",
       "      <td>74.191</td>\n",
       "      <td>7.200</td>\n",
       "      <td>Sylvester Stallone</td>\n",
       "      <td>Sylvester Stallone, Talia Shire, Burt Young, C...</td>\n",
       "      <td>United States</td>\n",
       "      <td>August 1, 2019</td>\n",
       "      <td>PG</td>\n",
       "      <td>119 min</td>\n",
       "      <td>Dramas, Sports Movies</td>\n",
       "      <td>Featuring a rousing climax, this engaging sequ...</td>\n",
       "    </tr>\n",
       "    <tr>\n",
       "      <th>4</th>\n",
       "      <td>4</td>\n",
       "      <td>tm127384</td>\n",
       "      <td>Monty Python and the Holy Grail</td>\n",
       "      <td>MOVIE</td>\n",
       "      <td>1975</td>\n",
       "      <td>PG</td>\n",
       "      <td>91</td>\n",
       "      <td>['fantasy', 'comedy']</td>\n",
       "      <td>['GB']</td>\n",
       "      <td>NaN</td>\n",
       "      <td>...</td>\n",
       "      <td>20.964</td>\n",
       "      <td>7.804</td>\n",
       "      <td>Terry Gilliam, Terry Jones</td>\n",
       "      <td>Graham Chapman, John Cleese, Eric Idle, Terry ...</td>\n",
       "      <td>United Kingdom</td>\n",
       "      <td>January 2, 2019</td>\n",
       "      <td>PG</td>\n",
       "      <td>92 min</td>\n",
       "      <td>Action &amp; Adventure, Classic Movies, Comedies</td>\n",
       "      <td>The Monty Python comedy clan skewers King Arth...</td>\n",
       "    </tr>\n",
       "  </tbody>\n",
       "</table>\n",
       "<p>5 rows × 23 columns</p>\n",
       "</div>"
      ],
      "text/plain": [
       "   Unnamed: 0        id                                title   type  \\\n",
       "0           0  ts300399  Five Came Back: The Reference Films   SHOW   \n",
       "1           1   tm82169                                Rocky  MOVIE   \n",
       "2           2   tm17823                               Grease  MOVIE   \n",
       "3           3   tm69975                             Rocky II  MOVIE   \n",
       "4           4  tm127384      Monty Python and the Holy Grail  MOVIE   \n",
       "\n",
       "   release_year age_certification  runtime                 genres  \\\n",
       "0          1945             TV-MA       51      ['documentation']   \n",
       "1          1976                PG      119     ['drama', 'sport']   \n",
       "2          1978                PG      110  ['comedy', 'romance']   \n",
       "3          1979                PG      119     ['drama', 'sport']   \n",
       "4          1975                PG       91  ['fantasy', 'comedy']   \n",
       "\n",
       "  production_countries  seasons  ... tmdb_popularity  tmdb_score  \\\n",
       "0               ['US']      1.0  ...           0.601         NaN   \n",
       "1               ['US']      NaN  ...          99.713       7.783   \n",
       "2               ['US']      NaN  ...          33.160       7.406   \n",
       "3               ['US']      NaN  ...          74.191       7.200   \n",
       "4               ['GB']      NaN  ...          20.964       7.804   \n",
       "\n",
       "                     director  \\\n",
       "0                         NaN   \n",
       "1            John G. Avildsen   \n",
       "2              Randal Kleiser   \n",
       "3          Sylvester Stallone   \n",
       "4  Terry Gilliam, Terry Jones   \n",
       "\n",
       "                                                cast         country  \\\n",
       "0                                                NaN   United States   \n",
       "1  Sylvester Stallone, Talia Shire, Burt Young, C...   United States   \n",
       "2  John Travolta, Olivia Newton-John, Stockard Ch...   United States   \n",
       "3  Sylvester Stallone, Talia Shire, Burt Young, C...   United States   \n",
       "4  Graham Chapman, John Cleese, Eric Idle, Terry ...  United Kingdom   \n",
       "\n",
       "         date_added rating  duration  \\\n",
       "0  February 9, 2021  TV-MA  1 Season   \n",
       "1    August 1, 2019     PG   120 min   \n",
       "2  November 1, 2019     PG   110 min   \n",
       "3    August 1, 2019     PG   119 min   \n",
       "4   January 2, 2019     PG    92 min   \n",
       "\n",
       "                                      listed_in  \\\n",
       "0                                      TV Shows   \n",
       "1    Action & Adventure, Classic Movies, Dramas   \n",
       "2    Classic Movies, Comedies, Music & Musicals   \n",
       "3                         Dramas, Sports Movies   \n",
       "4  Action & Adventure, Classic Movies, Comedies   \n",
       "\n",
       "                                         description  \n",
       "0  This collection includes 12 World War II-era p...  \n",
       "1  Sylvester Stallone shot to fame as Rocky Balbo...  \n",
       "2  John Travolta and Olivia Newton-John star in t...  \n",
       "3  Featuring a rousing climax, this engaging sequ...  \n",
       "4  The Monty Python comedy clan skewers King Arth...  \n",
       "\n",
       "[5 rows x 23 columns]"
      ]
     },
     "execution_count": 3,
     "metadata": {},
     "output_type": "execute_result"
    }
   ],
   "source": [
    "netflix_titles.head()"
   ]
  },
  {
   "cell_type": "markdown",
   "metadata": {
    "id": "3I_M9JPhNSmg"
   },
   "source": [
    "ed allo schema (notate che con head() alcune delle colonne, per problemi di spazio, non compaiono)"
   ]
  },
  {
   "cell_type": "code",
   "execution_count": 4,
   "metadata": {
    "id": "ZUaW4DbTNSmg",
    "tags": []
   },
   "outputs": [
    {
     "name": "stdout",
     "output_type": "stream",
     "text": [
      "<class 'pandas.core.frame.DataFrame'>\n",
      "RangeIndex: 3645 entries, 0 to 3644\n",
      "Data columns (total 23 columns):\n",
      " #   Column                Non-Null Count  Dtype  \n",
      "---  ------                --------------  -----  \n",
      " 0   Unnamed: 0            3645 non-null   int64  \n",
      " 1   id                    3645 non-null   object \n",
      " 2   title                 3645 non-null   object \n",
      " 3   type                  3645 non-null   object \n",
      " 4   release_year          3645 non-null   int64  \n",
      " 5   age_certification     2003 non-null   object \n",
      " 6   runtime               3645 non-null   int64  \n",
      " 7   genres                3645 non-null   object \n",
      " 8   production_countries  3645 non-null   object \n",
      " 9   seasons               1453 non-null   float64\n",
      " 10  imdb_id               3417 non-null   object \n",
      " 11  imdb_score            3378 non-null   float64\n",
      " 12  imdb_votes            3374 non-null   float64\n",
      " 13  tmdb_popularity       3612 non-null   float64\n",
      " 14  tmdb_score            3529 non-null   float64\n",
      " 15  director              2254 non-null   object \n",
      " 16  cast                  3280 non-null   object \n",
      " 17  country               3277 non-null   object \n",
      " 18  date_added            3645 non-null   object \n",
      " 19  rating                3645 non-null   object \n",
      " 20  duration              3644 non-null   object \n",
      " 21  listed_in             3645 non-null   object \n",
      " 22  description           3645 non-null   object \n",
      "dtypes: float64(5), int64(3), object(15)\n",
      "memory usage: 655.1+ KB\n"
     ]
    }
   ],
   "source": [
    "netflix_titles.info()"
   ]
  },
  {
   "cell_type": "markdown",
   "metadata": {
    "id": "D5akRnB1ZV9i"
   },
   "source": [
    "### Carico i dati di Disney+"
   ]
  },
  {
   "cell_type": "code",
   "execution_count": 5,
   "metadata": {
    "id": "FFkhlVa8ZV9i"
   },
   "outputs": [],
   "source": [
    "disney_titles = pd.read_csv(\"disney_titles.csv\")"
   ]
  },
  {
   "cell_type": "code",
   "execution_count": 6,
   "metadata": {
    "id": "FcvAqZ10ZV9i"
   },
   "outputs": [
    {
     "data": {
      "text/html": [
       "<div>\n",
       "<style scoped>\n",
       "    .dataframe tbody tr th:only-of-type {\n",
       "        vertical-align: middle;\n",
       "    }\n",
       "\n",
       "    .dataframe tbody tr th {\n",
       "        vertical-align: top;\n",
       "    }\n",
       "\n",
       "    .dataframe thead th {\n",
       "        text-align: right;\n",
       "    }\n",
       "</style>\n",
       "<table border=\"1\" class=\"dataframe\">\n",
       "  <thead>\n",
       "    <tr style=\"text-align: right;\">\n",
       "      <th></th>\n",
       "      <th>Unnamed: 0</th>\n",
       "      <th>id</th>\n",
       "      <th>title</th>\n",
       "      <th>show_type</th>\n",
       "      <th>release_year</th>\n",
       "      <th>age_certification</th>\n",
       "      <th>runtime</th>\n",
       "      <th>genres</th>\n",
       "      <th>production_countries</th>\n",
       "      <th>seasons</th>\n",
       "      <th>imdb_id</th>\n",
       "      <th>imdb_score</th>\n",
       "      <th>imdb_votes</th>\n",
       "      <th>tmdb_popularity</th>\n",
       "      <th>tmdb_score</th>\n",
       "      <th>director</th>\n",
       "      <th>country</th>\n",
       "      <th>from</th>\n",
       "      <th>rating</th>\n",
       "      <th>duration</th>\n",
       "    </tr>\n",
       "  </thead>\n",
       "  <tbody>\n",
       "    <tr>\n",
       "      <th>0</th>\n",
       "      <td>0</td>\n",
       "      <td>tm61729</td>\n",
       "      <td>The Adventures of Ichabod and Mr. Toad</td>\n",
       "      <td>MOVIE</td>\n",
       "      <td>1950</td>\n",
       "      <td>G</td>\n",
       "      <td>68</td>\n",
       "      <td>['horror', 'fantasy', 'animation', 'comedy', '...</td>\n",
       "      <td>['US']</td>\n",
       "      <td>NaN</td>\n",
       "      <td>tt0041094</td>\n",
       "      <td>6.9</td>\n",
       "      <td>16497.0</td>\n",
       "      <td>20.116</td>\n",
       "      <td>6.500</td>\n",
       "      <td>Jack Kinney, Clyde Geronimi, James Algar</td>\n",
       "      <td>United States</td>\n",
       "      <td>November 12, 2019</td>\n",
       "      <td>G</td>\n",
       "      <td>69 min</td>\n",
       "    </tr>\n",
       "    <tr>\n",
       "      <th>1</th>\n",
       "      <td>1</td>\n",
       "      <td>tm61052</td>\n",
       "      <td>Cinderella</td>\n",
       "      <td>MOVIE</td>\n",
       "      <td>1950</td>\n",
       "      <td>G</td>\n",
       "      <td>74</td>\n",
       "      <td>['fantasy', 'animation', 'family', 'romance']</td>\n",
       "      <td>['US']</td>\n",
       "      <td>NaN</td>\n",
       "      <td>tt0042332</td>\n",
       "      <td>7.3</td>\n",
       "      <td>164222.0</td>\n",
       "      <td>93.547</td>\n",
       "      <td>7.035</td>\n",
       "      <td>Wilfred Jackson, Hamilton Luske, Clyde Geronimi</td>\n",
       "      <td>United States</td>\n",
       "      <td>November 12, 2019</td>\n",
       "      <td>G</td>\n",
       "      <td>77 min</td>\n",
       "    </tr>\n",
       "    <tr>\n",
       "      <th>2</th>\n",
       "      <td>2</td>\n",
       "      <td>tm190870</td>\n",
       "      <td>Cinderella</td>\n",
       "      <td>MOVIE</td>\n",
       "      <td>1997</td>\n",
       "      <td>G</td>\n",
       "      <td>88</td>\n",
       "      <td>['romance', 'family', 'fantasy']</td>\n",
       "      <td>['US']</td>\n",
       "      <td>NaN</td>\n",
       "      <td>tt0128996</td>\n",
       "      <td>6.7</td>\n",
       "      <td>8944.0</td>\n",
       "      <td>9.493</td>\n",
       "      <td>6.400</td>\n",
       "      <td>Wilfred Jackson, Hamilton Luske, Clyde Geronimi</td>\n",
       "      <td>United States</td>\n",
       "      <td>November 12, 2019</td>\n",
       "      <td>G</td>\n",
       "      <td>77 min</td>\n",
       "    </tr>\n",
       "    <tr>\n",
       "      <th>3</th>\n",
       "      <td>3</td>\n",
       "      <td>tm87946</td>\n",
       "      <td>Dumbo</td>\n",
       "      <td>MOVIE</td>\n",
       "      <td>1941</td>\n",
       "      <td>G</td>\n",
       "      <td>64</td>\n",
       "      <td>['animation', 'drama', 'family', 'fantasy']</td>\n",
       "      <td>['US']</td>\n",
       "      <td>NaN</td>\n",
       "      <td>tt0033563</td>\n",
       "      <td>7.2</td>\n",
       "      <td>134997.0</td>\n",
       "      <td>54.265</td>\n",
       "      <td>6.999</td>\n",
       "      <td>Tim Burton</td>\n",
       "      <td>United States, United Kingdom, Australia, Canada</td>\n",
       "      <td>November 12, 2019</td>\n",
       "      <td>PG</td>\n",
       "      <td>117 min</td>\n",
       "    </tr>\n",
       "    <tr>\n",
       "      <th>4</th>\n",
       "      <td>4</td>\n",
       "      <td>tm207119</td>\n",
       "      <td>Dumbo</td>\n",
       "      <td>MOVIE</td>\n",
       "      <td>2019</td>\n",
       "      <td>PG</td>\n",
       "      <td>112</td>\n",
       "      <td>['family', 'fantasy', 'action']</td>\n",
       "      <td>['GB', 'US']</td>\n",
       "      <td>NaN</td>\n",
       "      <td>tt3861390</td>\n",
       "      <td>6.3</td>\n",
       "      <td>73010.0</td>\n",
       "      <td>23.271</td>\n",
       "      <td>6.661</td>\n",
       "      <td>Tim Burton</td>\n",
       "      <td>United States, United Kingdom, Australia, Canada</td>\n",
       "      <td>November 12, 2019</td>\n",
       "      <td>PG</td>\n",
       "      <td>117 min</td>\n",
       "    </tr>\n",
       "  </tbody>\n",
       "</table>\n",
       "</div>"
      ],
      "text/plain": [
       "   Unnamed: 0        id                                   title show_type  \\\n",
       "0           0   tm61729  The Adventures of Ichabod and Mr. Toad     MOVIE   \n",
       "1           1   tm61052                              Cinderella     MOVIE   \n",
       "2           2  tm190870                              Cinderella     MOVIE   \n",
       "3           3   tm87946                                   Dumbo     MOVIE   \n",
       "4           4  tm207119                                   Dumbo     MOVIE   \n",
       "\n",
       "   release_year age_certification  runtime  \\\n",
       "0          1950                 G       68   \n",
       "1          1950                 G       74   \n",
       "2          1997                 G       88   \n",
       "3          1941                 G       64   \n",
       "4          2019                PG      112   \n",
       "\n",
       "                                              genres production_countries  \\\n",
       "0  ['horror', 'fantasy', 'animation', 'comedy', '...               ['US']   \n",
       "1      ['fantasy', 'animation', 'family', 'romance']               ['US']   \n",
       "2                   ['romance', 'family', 'fantasy']               ['US']   \n",
       "3        ['animation', 'drama', 'family', 'fantasy']               ['US']   \n",
       "4                    ['family', 'fantasy', 'action']         ['GB', 'US']   \n",
       "\n",
       "   seasons    imdb_id  imdb_score  imdb_votes  tmdb_popularity  tmdb_score  \\\n",
       "0      NaN  tt0041094         6.9     16497.0           20.116       6.500   \n",
       "1      NaN  tt0042332         7.3    164222.0           93.547       7.035   \n",
       "2      NaN  tt0128996         6.7      8944.0            9.493       6.400   \n",
       "3      NaN  tt0033563         7.2    134997.0           54.265       6.999   \n",
       "4      NaN  tt3861390         6.3     73010.0           23.271       6.661   \n",
       "\n",
       "                                          director  \\\n",
       "0         Jack Kinney, Clyde Geronimi, James Algar   \n",
       "1  Wilfred Jackson, Hamilton Luske, Clyde Geronimi   \n",
       "2  Wilfred Jackson, Hamilton Luske, Clyde Geronimi   \n",
       "3                                       Tim Burton   \n",
       "4                                       Tim Burton   \n",
       "\n",
       "                                            country               from rating  \\\n",
       "0                                     United States  November 12, 2019      G   \n",
       "1                                     United States  November 12, 2019      G   \n",
       "2                                     United States  November 12, 2019      G   \n",
       "3  United States, United Kingdom, Australia, Canada  November 12, 2019     PG   \n",
       "4  United States, United Kingdom, Australia, Canada  November 12, 2019     PG   \n",
       "\n",
       "  duration  \n",
       "0   69 min  \n",
       "1   77 min  \n",
       "2   77 min  \n",
       "3  117 min  \n",
       "4  117 min  "
      ]
     },
     "execution_count": 6,
     "metadata": {},
     "output_type": "execute_result"
    }
   ],
   "source": [
    "disney_titles.head()"
   ]
  },
  {
   "cell_type": "code",
   "execution_count": 7,
   "metadata": {
    "id": "JOtmD-guNSmh",
    "tags": []
   },
   "outputs": [
    {
     "name": "stdout",
     "output_type": "stream",
     "text": [
      "<class 'pandas.core.frame.DataFrame'>\n",
      "RangeIndex: 1070 entries, 0 to 1069\n",
      "Data columns (total 20 columns):\n",
      " #   Column                Non-Null Count  Dtype  \n",
      "---  ------                --------------  -----  \n",
      " 0   Unnamed: 0            1070 non-null   int64  \n",
      " 1   id                    1070 non-null   object \n",
      " 2   title                 1070 non-null   object \n",
      " 3   show_type             1070 non-null   object \n",
      " 4   release_year          1070 non-null   int64  \n",
      " 5   age_certification     854 non-null    object \n",
      " 6   runtime               1070 non-null   int64  \n",
      " 7   genres                1070 non-null   object \n",
      " 8   production_countries  1070 non-null   object \n",
      " 9   seasons               263 non-null    float64\n",
      " 10  imdb_id               807 non-null    object \n",
      " 11  imdb_score            792 non-null    float64\n",
      " 12  imdb_votes            791 non-null    float64\n",
      " 13  tmdb_popularity       1067 non-null   float64\n",
      " 14  tmdb_score            1027 non-null   float64\n",
      " 15  director              766 non-null    object \n",
      " 16  country               933 non-null    object \n",
      " 17  from                  1069 non-null   object \n",
      " 18  rating                1068 non-null   object \n",
      " 19  duration              1070 non-null   object \n",
      "dtypes: float64(5), int64(3), object(12)\n",
      "memory usage: 167.3+ KB\n"
     ]
    }
   ],
   "source": [
    "disney_titles.info()"
   ]
  },
  {
   "cell_type": "markdown",
   "metadata": {
    "id": "YfMT0ezAZV9i"
   },
   "source": [
    "Come abbiamo visto, i due dataset hanno molte colonne in comune, ma anche alcune differenze.\n",
    "\n",
    "Proviamo comunque ad integrare le due tabelle, creandone una terza che metta insieme i dati della prima e quelli della seconda. \n",
    "\n",
    "**tip**\n",
    "Dovete \"concatenare\" i due dataFrame di pandas. \n",
    "\n",
    "Provate a cercare la funzione corretta e scrivete il codice necessario. "
   ]
  },
  {
   "cell_type": "code",
   "execution_count": 8,
   "metadata": {
    "id": "GnEs8g0xaqur",
    "tags": []
   },
   "outputs": [
    {
     "data": {
      "text/html": [
       "<div>\n",
       "<style scoped>\n",
       "    .dataframe tbody tr th:only-of-type {\n",
       "        vertical-align: middle;\n",
       "    }\n",
       "\n",
       "    .dataframe tbody tr th {\n",
       "        vertical-align: top;\n",
       "    }\n",
       "\n",
       "    .dataframe thead th {\n",
       "        text-align: right;\n",
       "    }\n",
       "</style>\n",
       "<table border=\"1\" class=\"dataframe\">\n",
       "  <thead>\n",
       "    <tr style=\"text-align: right;\">\n",
       "      <th></th>\n",
       "      <th>Unnamed: 0</th>\n",
       "      <th>id</th>\n",
       "      <th>title</th>\n",
       "      <th>show_type</th>\n",
       "      <th>release_year</th>\n",
       "      <th>age_certification</th>\n",
       "      <th>runtime</th>\n",
       "      <th>genres</th>\n",
       "      <th>production_countries</th>\n",
       "      <th>seasons</th>\n",
       "      <th>...</th>\n",
       "      <th>director</th>\n",
       "      <th>country</th>\n",
       "      <th>from</th>\n",
       "      <th>rating</th>\n",
       "      <th>duration</th>\n",
       "      <th>type</th>\n",
       "      <th>cast</th>\n",
       "      <th>date_added</th>\n",
       "      <th>listed_in</th>\n",
       "      <th>description</th>\n",
       "    </tr>\n",
       "  </thead>\n",
       "  <tbody>\n",
       "    <tr>\n",
       "      <th>0</th>\n",
       "      <td>0</td>\n",
       "      <td>tm61729</td>\n",
       "      <td>The Adventures of Ichabod and Mr. Toad</td>\n",
       "      <td>MOVIE</td>\n",
       "      <td>1950</td>\n",
       "      <td>G</td>\n",
       "      <td>68</td>\n",
       "      <td>['horror', 'fantasy', 'animation', 'comedy', '...</td>\n",
       "      <td>['US']</td>\n",
       "      <td>NaN</td>\n",
       "      <td>...</td>\n",
       "      <td>Jack Kinney, Clyde Geronimi, James Algar</td>\n",
       "      <td>United States</td>\n",
       "      <td>November 12, 2019</td>\n",
       "      <td>G</td>\n",
       "      <td>69 min</td>\n",
       "      <td>NaN</td>\n",
       "      <td>NaN</td>\n",
       "      <td>NaN</td>\n",
       "      <td>NaN</td>\n",
       "      <td>NaN</td>\n",
       "    </tr>\n",
       "    <tr>\n",
       "      <th>1</th>\n",
       "      <td>1</td>\n",
       "      <td>tm61052</td>\n",
       "      <td>Cinderella</td>\n",
       "      <td>MOVIE</td>\n",
       "      <td>1950</td>\n",
       "      <td>G</td>\n",
       "      <td>74</td>\n",
       "      <td>['fantasy', 'animation', 'family', 'romance']</td>\n",
       "      <td>['US']</td>\n",
       "      <td>NaN</td>\n",
       "      <td>...</td>\n",
       "      <td>Wilfred Jackson, Hamilton Luske, Clyde Geronimi</td>\n",
       "      <td>United States</td>\n",
       "      <td>November 12, 2019</td>\n",
       "      <td>G</td>\n",
       "      <td>77 min</td>\n",
       "      <td>NaN</td>\n",
       "      <td>NaN</td>\n",
       "      <td>NaN</td>\n",
       "      <td>NaN</td>\n",
       "      <td>NaN</td>\n",
       "    </tr>\n",
       "    <tr>\n",
       "      <th>2</th>\n",
       "      <td>2</td>\n",
       "      <td>tm190870</td>\n",
       "      <td>Cinderella</td>\n",
       "      <td>MOVIE</td>\n",
       "      <td>1997</td>\n",
       "      <td>G</td>\n",
       "      <td>88</td>\n",
       "      <td>['romance', 'family', 'fantasy']</td>\n",
       "      <td>['US']</td>\n",
       "      <td>NaN</td>\n",
       "      <td>...</td>\n",
       "      <td>Wilfred Jackson, Hamilton Luske, Clyde Geronimi</td>\n",
       "      <td>United States</td>\n",
       "      <td>November 12, 2019</td>\n",
       "      <td>G</td>\n",
       "      <td>77 min</td>\n",
       "      <td>NaN</td>\n",
       "      <td>NaN</td>\n",
       "      <td>NaN</td>\n",
       "      <td>NaN</td>\n",
       "      <td>NaN</td>\n",
       "    </tr>\n",
       "    <tr>\n",
       "      <th>3</th>\n",
       "      <td>3</td>\n",
       "      <td>tm87946</td>\n",
       "      <td>Dumbo</td>\n",
       "      <td>MOVIE</td>\n",
       "      <td>1941</td>\n",
       "      <td>G</td>\n",
       "      <td>64</td>\n",
       "      <td>['animation', 'drama', 'family', 'fantasy']</td>\n",
       "      <td>['US']</td>\n",
       "      <td>NaN</td>\n",
       "      <td>...</td>\n",
       "      <td>Tim Burton</td>\n",
       "      <td>United States, United Kingdom, Australia, Canada</td>\n",
       "      <td>November 12, 2019</td>\n",
       "      <td>PG</td>\n",
       "      <td>117 min</td>\n",
       "      <td>NaN</td>\n",
       "      <td>NaN</td>\n",
       "      <td>NaN</td>\n",
       "      <td>NaN</td>\n",
       "      <td>NaN</td>\n",
       "    </tr>\n",
       "    <tr>\n",
       "      <th>4</th>\n",
       "      <td>4</td>\n",
       "      <td>tm207119</td>\n",
       "      <td>Dumbo</td>\n",
       "      <td>MOVIE</td>\n",
       "      <td>2019</td>\n",
       "      <td>PG</td>\n",
       "      <td>112</td>\n",
       "      <td>['family', 'fantasy', 'action']</td>\n",
       "      <td>['GB', 'US']</td>\n",
       "      <td>NaN</td>\n",
       "      <td>...</td>\n",
       "      <td>Tim Burton</td>\n",
       "      <td>United States, United Kingdom, Australia, Canada</td>\n",
       "      <td>November 12, 2019</td>\n",
       "      <td>PG</td>\n",
       "      <td>117 min</td>\n",
       "      <td>NaN</td>\n",
       "      <td>NaN</td>\n",
       "      <td>NaN</td>\n",
       "      <td>NaN</td>\n",
       "      <td>NaN</td>\n",
       "    </tr>\n",
       "  </tbody>\n",
       "</table>\n",
       "<p>5 rows × 25 columns</p>\n",
       "</div>"
      ],
      "text/plain": [
       "   Unnamed: 0        id                                   title show_type  \\\n",
       "0           0   tm61729  The Adventures of Ichabod and Mr. Toad     MOVIE   \n",
       "1           1   tm61052                              Cinderella     MOVIE   \n",
       "2           2  tm190870                              Cinderella     MOVIE   \n",
       "3           3   tm87946                                   Dumbo     MOVIE   \n",
       "4           4  tm207119                                   Dumbo     MOVIE   \n",
       "\n",
       "   release_year age_certification  runtime  \\\n",
       "0          1950                 G       68   \n",
       "1          1950                 G       74   \n",
       "2          1997                 G       88   \n",
       "3          1941                 G       64   \n",
       "4          2019                PG      112   \n",
       "\n",
       "                                              genres production_countries  \\\n",
       "0  ['horror', 'fantasy', 'animation', 'comedy', '...               ['US']   \n",
       "1      ['fantasy', 'animation', 'family', 'romance']               ['US']   \n",
       "2                   ['romance', 'family', 'fantasy']               ['US']   \n",
       "3        ['animation', 'drama', 'family', 'fantasy']               ['US']   \n",
       "4                    ['family', 'fantasy', 'action']         ['GB', 'US']   \n",
       "\n",
       "   seasons  ...                                         director  \\\n",
       "0      NaN  ...         Jack Kinney, Clyde Geronimi, James Algar   \n",
       "1      NaN  ...  Wilfred Jackson, Hamilton Luske, Clyde Geronimi   \n",
       "2      NaN  ...  Wilfred Jackson, Hamilton Luske, Clyde Geronimi   \n",
       "3      NaN  ...                                       Tim Burton   \n",
       "4      NaN  ...                                       Tim Burton   \n",
       "\n",
       "                                            country               from  \\\n",
       "0                                     United States  November 12, 2019   \n",
       "1                                     United States  November 12, 2019   \n",
       "2                                     United States  November 12, 2019   \n",
       "3  United States, United Kingdom, Australia, Canada  November 12, 2019   \n",
       "4  United States, United Kingdom, Australia, Canada  November 12, 2019   \n",
       "\n",
       "   rating  duration type cast date_added listed_in description  \n",
       "0       G    69 min  NaN  NaN        NaN       NaN         NaN  \n",
       "1       G    77 min  NaN  NaN        NaN       NaN         NaN  \n",
       "2       G    77 min  NaN  NaN        NaN       NaN         NaN  \n",
       "3      PG   117 min  NaN  NaN        NaN       NaN         NaN  \n",
       "4      PG   117 min  NaN  NaN        NaN       NaN         NaN  \n",
       "\n",
       "[5 rows x 25 columns]"
      ]
     },
     "execution_count": 8,
     "metadata": {},
     "output_type": "execute_result"
    }
   ],
   "source": [
    "integrated = pd.concat([disney_titles, netflix_titles])\n",
    "integrated.head()"
   ]
  },
  {
   "cell_type": "markdown",
   "metadata": {
    "id": "WgIdPJmrbdQZ"
   },
   "source": [
    "Adesso, stampiamo un po' di informazioni sul dataset integrato (come ad esempio le dimensioni) e diamo un'occhiata allo schema."
   ]
  },
  {
   "cell_type": "code",
   "execution_count": 9,
   "metadata": {
    "id": "sOrZSZEDbgoJ",
    "tags": []
   },
   "outputs": [
    {
     "name": "stdout",
     "output_type": "stream",
     "text": [
      "Dimensioni del dataset integrato: (4715, 25)\n",
      "Schema del dataset integrato:\n",
      "<class 'pandas.core.frame.DataFrame'>\n",
      "Index: 4715 entries, 0 to 3644\n",
      "Data columns (total 25 columns):\n",
      " #   Column                Non-Null Count  Dtype  \n",
      "---  ------                --------------  -----  \n",
      " 0   Unnamed: 0            4715 non-null   int64  \n",
      " 1   id                    4715 non-null   object \n",
      " 2   title                 4715 non-null   object \n",
      " 3   show_type             1070 non-null   object \n",
      " 4   release_year          4715 non-null   int64  \n",
      " 5   age_certification     2857 non-null   object \n",
      " 6   runtime               4715 non-null   int64  \n",
      " 7   genres                4715 non-null   object \n",
      " 8   production_countries  4715 non-null   object \n",
      " 9   seasons               1716 non-null   float64\n",
      " 10  imdb_id               4224 non-null   object \n",
      " 11  imdb_score            4170 non-null   float64\n",
      " 12  imdb_votes            4165 non-null   float64\n",
      " 13  tmdb_popularity       4679 non-null   float64\n",
      " 14  tmdb_score            4556 non-null   float64\n",
      " 15  director              3020 non-null   object \n",
      " 16  country               4210 non-null   object \n",
      " 17  from                  1069 non-null   object \n",
      " 18  rating                4713 non-null   object \n",
      " 19  duration              4714 non-null   object \n",
      " 20  type                  3645 non-null   object \n",
      " 21  cast                  3280 non-null   object \n",
      " 22  date_added            3645 non-null   object \n",
      " 23  listed_in             3645 non-null   object \n",
      " 24  description           3645 non-null   object \n",
      "dtypes: float64(5), int64(3), object(17)\n",
      "memory usage: 957.7+ KB\n"
     ]
    }
   ],
   "source": [
    "print(\"Dimensioni del dataset integrato:\", integrated.shape)\n",
    "print(\"Schema del dataset integrato:\")\n",
    "integrated.info()"
   ]
  },
  {
   "cell_type": "markdown",
   "metadata": {
    "id": "VUa9TszxNSmi"
   },
   "source": [
    "Nonostante le differenze tra le due tabelle, la funzione concat concatena le due tabelle, mettendo a Null i valori delle colonne presenti solo in una delle due ed in corrispondenza delle righe provenienti dal dataset in cui la colonna non è presente. Proviamo a verificare la presenza di Null"
   ]
  },
  {
   "cell_type": "code",
   "execution_count": 10,
   "metadata": {
    "id": "q9fuN9QTNSmi",
    "tags": []
   },
   "outputs": [
    {
     "name": "stdout",
     "output_type": "stream",
     "text": [
      "Valori Null nel dataset integrato Unnamed: 0                 0\n",
      "id                         0\n",
      "title                      0\n",
      "show_type               3645\n",
      "release_year               0\n",
      "age_certification       1858\n",
      "runtime                    0\n",
      "genres                     0\n",
      "production_countries       0\n",
      "seasons                 2999\n",
      "imdb_id                  491\n",
      "imdb_score               545\n",
      "imdb_votes               550\n",
      "tmdb_popularity           36\n",
      "tmdb_score               159\n",
      "director                1695\n",
      "country                  505\n",
      "from                    3646\n",
      "rating                     2\n",
      "duration                   1\n",
      "type                    1070\n",
      "cast                    1435\n",
      "date_added              1070\n",
      "listed_in               1070\n",
      "description             1070\n",
      "dtype: int64\n"
     ]
    }
   ],
   "source": [
    "null_values = integrated.isnull().sum()\n",
    "print(\"Valori Null nel dataset integrato\", null_values)"
   ]
  },
  {
   "cell_type": "markdown",
   "metadata": {
    "id": "S31N_EwqNSmi"
   },
   "source": [
    "Ad esempio la colonna **listed_in**, che è presente solo in netflix_titles, ha 1070 valori Null, che corrisponde al numero di righe della tabella disney_titles. "
   ]
  },
  {
   "cell_type": "markdown",
   "metadata": {
    "id": "A1binP2ENSmi"
   },
   "source": [
    "Decidiamo di eliminare eventuali colonne non comuni. Possiamo farlo **prima** dell'integrazione, oppure direttamente sulla tabella concatenata. "
   ]
  },
  {
   "cell_type": "markdown",
   "metadata": {
    "id": "rBxNAttwNSmi"
   },
   "source": [
    "**Tip**: confrontate i due schemi per capire quali siano le colonne non comuni. Attenzione!!! Potrebbero anche esserci colonne che sembrano non comuni, ma in realtà contengono la stessa tipologia di informazione e hanno solo nomi diversi!!"
   ]
  },
  {
   "cell_type": "code",
   "execution_count": 11,
   "metadata": {
    "id": "GSR1g0gSNSmi",
    "tags": []
   },
   "outputs": [
    {
     "name": "stdout",
     "output_type": "stream",
     "text": [
      "Colonne non comuni: {'type', 'date_added', 'listed_in', 'from', 'cast', 'show_type', 'description'}\n",
      "Dataset a confronto:\n",
      "<class 'pandas.core.frame.DataFrame'>\n",
      "RangeIndex: 1070 entries, 0 to 1069\n",
      "Data columns (total 20 columns):\n",
      " #   Column                Non-Null Count  Dtype  \n",
      "---  ------                --------------  -----  \n",
      " 0   Unnamed: 0            1070 non-null   int64  \n",
      " 1   id                    1070 non-null   object \n",
      " 2   title                 1070 non-null   object \n",
      " 3   show_type             1070 non-null   object \n",
      " 4   release_year          1070 non-null   int64  \n",
      " 5   age_certification     854 non-null    object \n",
      " 6   runtime               1070 non-null   int64  \n",
      " 7   genres                1070 non-null   object \n",
      " 8   production_countries  1070 non-null   object \n",
      " 9   seasons               263 non-null    float64\n",
      " 10  imdb_id               807 non-null    object \n",
      " 11  imdb_score            792 non-null    float64\n",
      " 12  imdb_votes            791 non-null    float64\n",
      " 13  tmdb_popularity       1067 non-null   float64\n",
      " 14  tmdb_score            1027 non-null   float64\n",
      " 15  director              766 non-null    object \n",
      " 16  country               933 non-null    object \n",
      " 17  from                  1069 non-null   object \n",
      " 18  rating                1068 non-null   object \n",
      " 19  duration              1070 non-null   object \n",
      "dtypes: float64(5), int64(3), object(12)\n",
      "memory usage: 167.3+ KB\n",
      "\n",
      "\n",
      "<class 'pandas.core.frame.DataFrame'>\n",
      "RangeIndex: 3645 entries, 0 to 3644\n",
      "Data columns (total 23 columns):\n",
      " #   Column                Non-Null Count  Dtype  \n",
      "---  ------                --------------  -----  \n",
      " 0   Unnamed: 0            3645 non-null   int64  \n",
      " 1   id                    3645 non-null   object \n",
      " 2   title                 3645 non-null   object \n",
      " 3   type                  3645 non-null   object \n",
      " 4   release_year          3645 non-null   int64  \n",
      " 5   age_certification     2003 non-null   object \n",
      " 6   runtime               3645 non-null   int64  \n",
      " 7   genres                3645 non-null   object \n",
      " 8   production_countries  3645 non-null   object \n",
      " 9   seasons               1453 non-null   float64\n",
      " 10  imdb_id               3417 non-null   object \n",
      " 11  imdb_score            3378 non-null   float64\n",
      " 12  imdb_votes            3374 non-null   float64\n",
      " 13  tmdb_popularity       3612 non-null   float64\n",
      " 14  tmdb_score            3529 non-null   float64\n",
      " 15  director              2254 non-null   object \n",
      " 16  cast                  3280 non-null   object \n",
      " 17  country               3277 non-null   object \n",
      " 18  date_added            3645 non-null   object \n",
      " 19  rating                3645 non-null   object \n",
      " 20  duration              3644 non-null   object \n",
      " 21  listed_in             3645 non-null   object \n",
      " 22  description           3645 non-null   object \n",
      "dtypes: float64(5), int64(3), object(15)\n",
      "memory usage: 655.1+ KB\n"
     ]
    }
   ],
   "source": [
    "disney_columns = set(disney_titles.columns)\n",
    "netflix_columns = set(netflix_titles.columns)\n",
    "# Troviamo le colonne non comuni (almeno a livello di nome)\n",
    "non_common_columns = disney_columns.symmetric_difference(netflix_columns)\n",
    "print(\"Colonne non comuni:\", non_common_columns)\n",
    "print(\"Dataset a confronto:\")\n",
    "disney_titles.info()\n",
    "print(\"\\n\")\n",
    "netflix_titles.info()"
   ]
  },
  {
   "cell_type": "markdown",
   "metadata": {
    "id": "AnmjnMpRNSmj"
   },
   "source": [
    "Andiamo ora alla ricerca di eventuali colonne che contengono la stessa informazione. Guardate in particolare (type, show_type),  (contry, production_countries), (date_added, from)"
   ]
  },
  {
   "cell_type": "code",
   "execution_count": 12,
   "metadata": {
    "id": "zteaVSdnNSmj"
   },
   "outputs": [],
   "source": [
    "# andiamo a rinominare dentro a disney_titles la colonna show_type in type e la colonna from in date_added\n",
    "# così da unirle nel dataset integrato:\n",
    "disney_titles.rename(columns={'show_type': 'type'}, inplace=True)\n",
    "disney_titles.rename(columns={'from': 'date_added'}, inplace=True)"
   ]
  },
  {
   "cell_type": "code",
   "execution_count": 13,
   "metadata": {
    "tags": []
   },
   "outputs": [
    {
     "name": "stdout",
     "output_type": "stream",
     "text": [
      "Index(['Unnamed: 0', 'id', 'title', 'type', 'release_year',\n",
      "       'age_certification', 'runtime', 'genres', 'production_countries',\n",
      "       'seasons', 'imdb_id', 'imdb_score', 'imdb_votes', 'tmdb_popularity',\n",
      "       'tmdb_score', 'director', 'country', 'date_added', 'rating', 'duration',\n",
      "       'cast', 'listed_in', 'description'],\n",
      "      dtype='object')\n",
      "<class 'pandas.core.frame.DataFrame'>\n",
      "Index: 4715 entries, 0 to 3644\n",
      "Data columns (total 23 columns):\n",
      " #   Column                Non-Null Count  Dtype  \n",
      "---  ------                --------------  -----  \n",
      " 0   Unnamed: 0            4715 non-null   int64  \n",
      " 1   id                    4715 non-null   object \n",
      " 2   title                 4715 non-null   object \n",
      " 3   type                  4715 non-null   object \n",
      " 4   release_year          4715 non-null   int64  \n",
      " 5   age_certification     2857 non-null   object \n",
      " 6   runtime               4715 non-null   int64  \n",
      " 7   genres                4715 non-null   object \n",
      " 8   production_countries  4715 non-null   object \n",
      " 9   seasons               1716 non-null   float64\n",
      " 10  imdb_id               4224 non-null   object \n",
      " 11  imdb_score            4170 non-null   float64\n",
      " 12  imdb_votes            4165 non-null   float64\n",
      " 13  tmdb_popularity       4679 non-null   float64\n",
      " 14  tmdb_score            4556 non-null   float64\n",
      " 15  director              3020 non-null   object \n",
      " 16  country               4210 non-null   object \n",
      " 17  date_added            4714 non-null   object \n",
      " 18  rating                4713 non-null   object \n",
      " 19  duration              4714 non-null   object \n",
      " 20  cast                  3280 non-null   object \n",
      " 21  listed_in             3645 non-null   object \n",
      " 22  description           3645 non-null   object \n",
      "dtypes: float64(5), int64(3), object(15)\n",
      "memory usage: 884.1+ KB\n"
     ]
    }
   ],
   "source": [
    "# Concatena i due DataFrame\n",
    "integrated = pd.concat([disney_titles, netflix_titles])\n",
    "\n",
    "# Verifichiamo che la colonna 'type' e la colonna 'date_added' sia stata unificata\n",
    "print(integrated.columns)\n",
    "integrated.info()"
   ]
  },
  {
   "cell_type": "markdown",
   "metadata": {
    "id": "29LGKkt2NSmj"
   },
   "source": [
    "Infine, ci sono colonne che già ora possiamo giudicare inutili?\n",
    "\n",
    "per buttare via una colonna, usiamo la funzione drop di pandas "
   ]
  },
  {
   "cell_type": "code",
   "execution_count": 14,
   "metadata": {
    "id": "HVNsjHiKNSmj"
   },
   "outputs": [
    {
     "name": "stdout",
     "output_type": "stream",
     "text": [
      "<class 'pandas.core.frame.DataFrame'>\n",
      "Index: 4715 entries, 0 to 3644\n",
      "Data columns (total 22 columns):\n",
      " #   Column                Non-Null Count  Dtype  \n",
      "---  ------                --------------  -----  \n",
      " 0   id                    4715 non-null   object \n",
      " 1   title                 4715 non-null   object \n",
      " 2   type                  4715 non-null   object \n",
      " 3   release_year          4715 non-null   int64  \n",
      " 4   age_certification     2857 non-null   object \n",
      " 5   runtime               4715 non-null   int64  \n",
      " 6   genres                4715 non-null   object \n",
      " 7   production_countries  4715 non-null   object \n",
      " 8   seasons               1716 non-null   float64\n",
      " 9   imdb_id               4224 non-null   object \n",
      " 10  imdb_score            4170 non-null   float64\n",
      " 11  imdb_votes            4165 non-null   float64\n",
      " 12  tmdb_popularity       4679 non-null   float64\n",
      " 13  tmdb_score            4556 non-null   float64\n",
      " 14  director              3020 non-null   object \n",
      " 15  country               4210 non-null   object \n",
      " 16  date_added            4714 non-null   object \n",
      " 17  rating                4713 non-null   object \n",
      " 18  duration              4714 non-null   object \n",
      " 19  cast                  3280 non-null   object \n",
      " 20  listed_in             3645 non-null   object \n",
      " 21  description           3645 non-null   object \n",
      "dtypes: float64(5), int64(2), object(15)\n",
      "memory usage: 847.2+ KB\n"
     ]
    }
   ],
   "source": [
    "# immagino che Unnamed: 0 sia abbastanza inutile ai fini di una analisi statistica\n",
    "# Rimuoviamo la colonna 'Unnamed: 0' dal DataFrame integrato\n",
    "integrated.drop(columns=['Unnamed: 0'], inplace=True)\n",
    "\n",
    "# inoltre, analizzando i dati, notiamo che le colonne age_certification e rating (presenti in entrambi i dataset, e quindi\n",
    "# anche in quello integrato) contengono più o meno la stessa informazione ma in entrambi i casi la colonna rating è\n",
    "# più completa, in quanto contiene la quasi totalità dei valori non nulli, mentre age_certification contiene molti nulli\n",
    "# droppiamo quindi la colonna age_certification\n",
    "# discorso simile per country e production_countries: stessa informazione (il/i Paese/i in cui è stato prodotto il contenuto )\n",
    "# in production_countries l'informazione viene veicolata attraverso un array di sigle dei Paesi in questione,\n",
    "# mentre in country con una lista dei nomi dei per esteso dei Paesi in questione\n",
    "# analizzando il dataset vediamo che la colonna production_countries è più completa, non contenendo praticamente valori nulli\n",
    "# quindi droppiamo country\n",

    "# visualizziamo \"quello che resta\"\n",
    "integrated.info()\n"
   ]
  },
  {
   "cell_type": "markdown",
   "metadata": {
    "id": "Vb5EMhQSZV9j"
   },
   "source": [
    "### Carichiamo altre due tabelle, che forniscono fonti di informazioni aggiuntive"
   ]
  },
  {
   "cell_type": "code",
   "execution_count": 15,
   "metadata": {
    "id": "xNhJkeO8ZV9j"
   },
   "outputs": [],
   "source": [
    "netflix_credits = pd.read_csv(\"netflix_credits.csv\")\n",
    "disney_credits = pd.read_csv(\"disney_credits.csv\")"
   ]
  },
  {
   "cell_type": "markdown",
   "metadata": {
    "id": "0HutxQdgccHo"
   },
   "source": [
    "come sempre, stampiamo le prime righe di ciascun dataFrame "
   ]
  },
  {
   "cell_type": "code",
   "execution_count": 16,
   "metadata": {
    "id": "H4y2GU8dZV9j"
   },
   "outputs": [
    {
     "data": {
      "text/html": [
       "<div>\n",
       "<style scoped>\n",
       "    .dataframe tbody tr th:only-of-type {\n",
       "        vertical-align: middle;\n",
       "    }\n",
       "\n",
       "    .dataframe tbody tr th {\n",
       "        vertical-align: top;\n",
       "    }\n",
       "\n",
       "    .dataframe thead th {\n",
       "        text-align: right;\n",
       "    }\n",
       "</style>\n",
       "<table border=\"1\" class=\"dataframe\">\n",
       "  <thead>\n",
       "    <tr style=\"text-align: right;\">\n",
       "      <th></th>\n",
       "      <th>person_id</th>\n",
       "      <th>id</th>\n",
       "      <th>name</th>\n",
       "      <th>character</th>\n",
       "      <th>role</th>\n",
       "    </tr>\n",
       "  </thead>\n",
       "  <tbody>\n",
       "    <tr>\n",
       "      <th>0</th>\n",
       "      <td>3180</td>\n",
       "      <td>tm82169</td>\n",
       "      <td>Sylvester Stallone</td>\n",
       "      <td>Robert \"Rocky\" Balboa</td>\n",
       "      <td>ACTOR</td>\n",
       "    </tr>\n",
       "    <tr>\n",
       "      <th>1</th>\n",
       "      <td>7748</td>\n",
       "      <td>tm82169</td>\n",
       "      <td>Talia Shire</td>\n",
       "      <td>Adrianna \"Adrian\" Pennino</td>\n",
       "      <td>ACTOR</td>\n",
       "    </tr>\n",
       "    <tr>\n",
       "      <th>2</th>\n",
       "      <td>7749</td>\n",
       "      <td>tm82169</td>\n",
       "      <td>Burt Young</td>\n",
       "      <td>Paulie Pennino</td>\n",
       "      <td>ACTOR</td>\n",
       "    </tr>\n",
       "    <tr>\n",
       "      <th>3</th>\n",
       "      <td>7750</td>\n",
       "      <td>tm82169</td>\n",
       "      <td>Carl Weathers</td>\n",
       "      <td>Apollo Creed</td>\n",
       "      <td>ACTOR</td>\n",
       "    </tr>\n",
       "    <tr>\n",
       "      <th>4</th>\n",
       "      <td>7751</td>\n",
       "      <td>tm82169</td>\n",
       "      <td>Burgess Meredith</td>\n",
       "      <td>Mickey Goldmill</td>\n",
       "      <td>ACTOR</td>\n",
       "    </tr>\n",
       "  </tbody>\n",
       "</table>\n",
       "</div>"
      ],
      "text/plain": [
       "   person_id       id                name                  character   role\n",
       "0       3180  tm82169  Sylvester Stallone      Robert \"Rocky\" Balboa  ACTOR\n",
       "1       7748  tm82169         Talia Shire  Adrianna \"Adrian\" Pennino  ACTOR\n",
       "2       7749  tm82169          Burt Young             Paulie Pennino  ACTOR\n",
       "3       7750  tm82169       Carl Weathers               Apollo Creed  ACTOR\n",
       "4       7751  tm82169    Burgess Meredith            Mickey Goldmill  ACTOR"
      ]
     },
     "execution_count": 16,
     "metadata": {},
     "output_type": "execute_result"
    }
   ],
   "source": [
    "netflix_credits.head()\n"
   ]
  },
  {
   "cell_type": "code",
   "execution_count": 17,
   "metadata": {
    "id": "ABJCMEkdcjHZ"
   },
   "outputs": [
    {
     "data": {
      "text/html": [
       "<div>\n",
       "<style scoped>\n",
       "    .dataframe tbody tr th:only-of-type {\n",
       "        vertical-align: middle;\n",
       "    }\n",
       "\n",
       "    .dataframe tbody tr th {\n",
       "        vertical-align: top;\n",
       "    }\n",
       "\n",
       "    .dataframe thead th {\n",
       "        text-align: right;\n",
       "    }\n",
       "</style>\n",
       "<table border=\"1\" class=\"dataframe\">\n",
       "  <thead>\n",
       "    <tr style=\"text-align: right;\">\n",
       "      <th></th>\n",
       "      <th>person_id</th>\n",
       "      <th>id</th>\n",
       "      <th>name</th>\n",
       "      <th>character</th>\n",
       "      <th>role</th>\n",
       "    </tr>\n",
       "  </thead>\n",
       "  <tbody>\n",
       "    <tr>\n",
       "      <th>0</th>\n",
       "      <td>35549</td>\n",
       "      <td>tm89464</td>\n",
       "      <td>Maureen O'Hara</td>\n",
       "      <td>Doris Walker</td>\n",
       "      <td>ACTOR</td>\n",
       "    </tr>\n",
       "    <tr>\n",
       "      <th>1</th>\n",
       "      <td>57832</td>\n",
       "      <td>tm89464</td>\n",
       "      <td>John Payne</td>\n",
       "      <td>Fred Gailey</td>\n",
       "      <td>ACTOR</td>\n",
       "    </tr>\n",
       "    <tr>\n",
       "      <th>2</th>\n",
       "      <td>57833</td>\n",
       "      <td>tm89464</td>\n",
       "      <td>Edmund Gwenn</td>\n",
       "      <td>Kris Kringle</td>\n",
       "      <td>ACTOR</td>\n",
       "    </tr>\n",
       "    <tr>\n",
       "      <th>3</th>\n",
       "      <td>25096</td>\n",
       "      <td>tm89464</td>\n",
       "      <td>Natalie Wood</td>\n",
       "      <td>Susan Walker</td>\n",
       "      <td>ACTOR</td>\n",
       "    </tr>\n",
       "    <tr>\n",
       "      <th>4</th>\n",
       "      <td>27185</td>\n",
       "      <td>tm89464</td>\n",
       "      <td>Porter Hall</td>\n",
       "      <td>Granville Sawyer</td>\n",
       "      <td>ACTOR</td>\n",
       "    </tr>\n",
       "  </tbody>\n",
       "</table>\n",
       "</div>"
      ],
      "text/plain": [
       "   person_id       id            name         character   role\n",
       "0      35549  tm89464  Maureen O'Hara      Doris Walker  ACTOR\n",
       "1      57832  tm89464      John Payne       Fred Gailey  ACTOR\n",
       "2      57833  tm89464    Edmund Gwenn      Kris Kringle  ACTOR\n",
       "3      25096  tm89464    Natalie Wood      Susan Walker  ACTOR\n",
       "4      27185  tm89464     Porter Hall  Granville Sawyer  ACTOR"
      ]
     },
     "execution_count": 17,
     "metadata": {},
     "output_type": "execute_result"
    }
   ],
   "source": [
    "disney_credits.head()"
   ]
  },
  {
   "cell_type": "markdown",
   "metadata": {
    "id": "70SWWdYzZV9j"
   },
   "source": [
    "Possiamo osservare che le tabelle credits e titles, hanno informazioni complementari.  In particolare, credits riporta delle informazinoi aggiuntive riguardanti attori e carattere interpretato. "
   ]
  },
  {
   "cell_type": "markdown",
   "metadata": {
    "id": "F2V9spDlNSmk"
   },
   "source": [
    "Come prima, procediamo con l'integrazione delle due tabelle, che questa volta è più facile (lo schema è proprio lo stesso!)"
   ]
  },
  {
   "cell_type": "code",
   "execution_count": 18,
   "metadata": {
    "id": "cL_PStFsNSmk"
   },
   "outputs": [
    {
     "name": "stdout",
     "output_type": "stream",
     "text": [
      "<class 'pandas.core.frame.DataFrame'>\n",
      "Index: 110791 entries, 0 to 80382\n",
      "Data columns (total 5 columns):\n",
      " #   Column     Non-Null Count   Dtype \n",
      "---  ------     --------------   ----- \n",
      " 0   person_id  110791 non-null  int64 \n",
      " 1   id         110791 non-null  object\n",
      " 2   name       110791 non-null  object\n",
      " 3   character  98256 non-null   object\n",
      " 4   role       110791 non-null  object\n",
      "dtypes: int64(1), object(4)\n",
      "memory usage: 5.1+ MB\n"
     ]
    }
   ],
   "source": [
    "integrated_credits = pd.concat([disney_credits, netflix_credits])\n",
    "integrated_credits.info()"
   ]
  },
  {
   "cell_type": "markdown",
   "metadata": {
    "id": "bn2-knciNSmk"
   },
   "source": [
    "Data la complementarietà delle informazioni che troviamo nelle cartelle titles e credits, possiamo decidere di fare un **join** tra le due tabelle, per includere tutte le informazioni in un unico dataset. \n"
   ]
  },
  {
   "cell_type": "code",
   "execution_count": 22,
   "metadata": {
    "id": "oOPshZZFZV9j"
   },
   "outputs": [],
   "source": [
    "# ...completare qui usando la funzione merge per fare il join\n",
    "# integrated è la tabella che integra netflix_titles e disney_titles su cui abbiamo lavorato prima\n",
    "# mentre integrated_credits è la tabella che integra disney_credits e netflix_credits\n",
    "# le uniamo con la merge\n",
    "final_table= pd.merge(integrated, integrated_credits, on='id', how='inner')"
   ]
  },
  {
   "cell_type": "markdown",
   "metadata": {
    "id": "k-q96gyMdTv7"
   },
   "source": [
    "verifichiamo cosa sia successo guardando le dimensioni di ciascun dataframe"
   ]
  },
  {
   "cell_type": "code",
   "execution_count": 26,
   "metadata": {
    "id": "rMi4zVX4dWjV"
   },
   "outputs": [
    {
     "name": "stdout",
     "output_type": "stream",
     "text": [
      "dimensioni della tabella 'totale' (66189, 26)\n",
      "dimensioni della tabella integrata dei credits (110791, 5)\n",
      "dimensioni della tabella integrata dei titoli (4715, 22)\n"
     ]
    }
   ],
   "source": [
    "#completare qui\n",
    "print(\"dimensioni della tabella 'totale'\",final_table.shape)\n",
    "print(\"dimensioni della tabella integrata dei credits\", integrated_credits.shape)\n",
    "print(\"dimensioni della tabella integrata dei titoli\", integrated.shape)"
   ]
  },
  {
   "cell_type": "markdown",
   "metadata": {
    "id": "lJCbPSjPdi6t"
   },
   "source": [
    "vi tornano le dimensioni?"
   ]
  },
  {
   "cell_type": "code",
   "execution_count": 27,
   "metadata": {
    "id": "vBDmqgPHdcHe"
   },
   "outputs": [
    {
     "data": {
      "text/html": [
       "<div>\n",
       "<style scoped>\n",
       "    .dataframe tbody tr th:only-of-type {\n",
       "        vertical-align: middle;\n",
       "    }\n",
       "\n",
       "    .dataframe tbody tr th {\n",
       "        vertical-align: top;\n",
       "    }\n",
       "\n",
       "    .dataframe thead th {\n",
       "        text-align: right;\n",
       "    }\n",
       "</style>\n",
       "<table border=\"1\" class=\"dataframe\">\n",
       "  <thead>\n",
       "    <tr style=\"text-align: right;\">\n",
       "      <th></th>\n",
       "      <th>id</th>\n",
       "      <th>title</th>\n",
       "      <th>type</th>\n",
       "      <th>release_year</th>\n",
       "      <th>age_certification</th>\n",
       "      <th>runtime</th>\n",
       "      <th>genres</th>\n",
       "      <th>production_countries</th>\n",
       "      <th>seasons</th>\n",
       "      <th>imdb_id</th>\n",
       "      <th>...</th>\n",
       "      <th>date_added</th>\n",
       "      <th>rating</th>\n",
       "      <th>duration</th>\n",
       "      <th>cast</th>\n",
       "      <th>listed_in</th>\n",
       "      <th>description</th>\n",
       "      <th>person_id</th>\n",
       "      <th>name</th>\n",
       "      <th>character</th>\n",
       "      <th>role</th>\n",
       "    </tr>\n",
       "  </thead>\n",
       "  <tbody>\n",
       "    <tr>\n",
       "      <th>0</th>\n",
       "      <td>tm61729</td>\n",
       "      <td>The Adventures of Ichabod and Mr. Toad</td>\n",
       "      <td>MOVIE</td>\n",
       "      <td>1950</td>\n",
       "      <td>G</td>\n",
       "      <td>68</td>\n",
       "      <td>['horror', 'fantasy', 'animation', 'comedy', '...</td>\n",
       "      <td>['US']</td>\n",
       "      <td>NaN</td>\n",
       "      <td>tt0041094</td>\n",
       "      <td>...</td>\n",
       "      <td>November 12, 2019</td>\n",
       "      <td>G</td>\n",
       "      <td>69 min</td>\n",
       "      <td>NaN</td>\n",
       "      <td>NaN</td>\n",
       "      <td>NaN</td>\n",
       "      <td>25056</td>\n",
       "      <td>Bing Crosby</td>\n",
       "      <td>Narrator (segment \"The Legend of Sleepy Hollow\")</td>\n",
       "      <td>ACTOR</td>\n",
       "    </tr>\n",
       "    <tr>\n",
       "      <th>1</th>\n",
       "      <td>tm61729</td>\n",
       "      <td>The Adventures of Ichabod and Mr. Toad</td>\n",
       "      <td>MOVIE</td>\n",
       "      <td>1950</td>\n",
       "      <td>G</td>\n",
       "      <td>68</td>\n",
       "      <td>['horror', 'fantasy', 'animation', 'comedy', '...</td>\n",
       "      <td>['US']</td>\n",
       "      <td>NaN</td>\n",
       "      <td>tt0041094</td>\n",
       "      <td>...</td>\n",
       "      <td>November 12, 2019</td>\n",
       "      <td>G</td>\n",
       "      <td>69 min</td>\n",
       "      <td>NaN</td>\n",
       "      <td>NaN</td>\n",
       "      <td>NaN</td>\n",
       "      <td>25058</td>\n",
       "      <td>Basil Rathbone</td>\n",
       "      <td>Narrator (segment \"The Wind in the Willows\") (...</td>\n",
       "      <td>ACTOR</td>\n",
       "    </tr>\n",
       "    <tr>\n",
       "      <th>2</th>\n",
       "      <td>tm61729</td>\n",
       "      <td>The Adventures of Ichabod and Mr. Toad</td>\n",
       "      <td>MOVIE</td>\n",
       "      <td>1950</td>\n",
       "      <td>G</td>\n",
       "      <td>68</td>\n",
       "      <td>['horror', 'fantasy', 'animation', 'comedy', '...</td>\n",
       "      <td>['US']</td>\n",
       "      <td>NaN</td>\n",
       "      <td>tt0041094</td>\n",
       "      <td>...</td>\n",
       "      <td>November 12, 2019</td>\n",
       "      <td>G</td>\n",
       "      <td>69 min</td>\n",
       "      <td>NaN</td>\n",
       "      <td>NaN</td>\n",
       "      <td>NaN</td>\n",
       "      <td>25057</td>\n",
       "      <td>Eric Blore</td>\n",
       "      <td>Mr. Toad (voice)</td>\n",
       "      <td>ACTOR</td>\n",
       "    </tr>\n",
       "    <tr>\n",
       "      <th>3</th>\n",
       "      <td>tm61729</td>\n",
       "      <td>The Adventures of Ichabod and Mr. Toad</td>\n",
       "      <td>MOVIE</td>\n",
       "      <td>1950</td>\n",
       "      <td>G</td>\n",
       "      <td>68</td>\n",
       "      <td>['horror', 'fantasy', 'animation', 'comedy', '...</td>\n",
       "      <td>['US']</td>\n",
       "      <td>NaN</td>\n",
       "      <td>tt0041094</td>\n",
       "      <td>...</td>\n",
       "      <td>November 12, 2019</td>\n",
       "      <td>G</td>\n",
       "      <td>69 min</td>\n",
       "      <td>NaN</td>\n",
       "      <td>NaN</td>\n",
       "      <td>NaN</td>\n",
       "      <td>5901</td>\n",
       "      <td>J. Pat O'Malley</td>\n",
       "      <td>Cyril Proudbottom (voice)</td>\n",
       "      <td>ACTOR</td>\n",
       "    </tr>\n",
       "    <tr>\n",
       "      <th>4</th>\n",
       "      <td>tm61729</td>\n",
       "      <td>The Adventures of Ichabod and Mr. Toad</td>\n",
       "      <td>MOVIE</td>\n",
       "      <td>1950</td>\n",
       "      <td>G</td>\n",
       "      <td>68</td>\n",
       "      <td>['horror', 'fantasy', 'animation', 'comedy', '...</td>\n",
       "      <td>['US']</td>\n",
       "      <td>NaN</td>\n",
       "      <td>tt0041094</td>\n",
       "      <td>...</td>\n",
       "      <td>November 12, 2019</td>\n",
       "      <td>G</td>\n",
       "      <td>69 min</td>\n",
       "      <td>NaN</td>\n",
       "      <td>NaN</td>\n",
       "      <td>NaN</td>\n",
       "      <td>598861</td>\n",
       "      <td>John McLeish</td>\n",
       "      <td>Prosecutor (voice)</td>\n",
       "      <td>ACTOR</td>\n",
       "    </tr>\n",
       "  </tbody>\n",
       "</table>\n",
       "<p>5 rows × 26 columns</p>\n",
       "</div>"
      ],
      "text/plain": [
       "        id                                   title   type  release_year  \\\n",
       "0  tm61729  The Adventures of Ichabod and Mr. Toad  MOVIE          1950   \n",
       "1  tm61729  The Adventures of Ichabod and Mr. Toad  MOVIE          1950   \n",
       "2  tm61729  The Adventures of Ichabod and Mr. Toad  MOVIE          1950   \n",
       "3  tm61729  The Adventures of Ichabod and Mr. Toad  MOVIE          1950   \n",
       "4  tm61729  The Adventures of Ichabod and Mr. Toad  MOVIE          1950   \n",
       "\n",
       "  age_certification  runtime  \\\n",
       "0                 G       68   \n",
       "1                 G       68   \n",
       "2                 G       68   \n",
       "3                 G       68   \n",
       "4                 G       68   \n",
       "\n",
       "                                              genres production_countries  \\\n",
       "0  ['horror', 'fantasy', 'animation', 'comedy', '...               ['US']   \n",
       "1  ['horror', 'fantasy', 'animation', 'comedy', '...               ['US']   \n",
       "2  ['horror', 'fantasy', 'animation', 'comedy', '...               ['US']   \n",
       "3  ['horror', 'fantasy', 'animation', 'comedy', '...               ['US']   \n",
       "4  ['horror', 'fantasy', 'animation', 'comedy', '...               ['US']   \n",
       "\n",
       "   seasons    imdb_id  ...         date_added  rating  duration  cast  \\\n",
       "0      NaN  tt0041094  ...  November 12, 2019       G    69 min   NaN   \n",
       "1      NaN  tt0041094  ...  November 12, 2019       G    69 min   NaN   \n",
       "2      NaN  tt0041094  ...  November 12, 2019       G    69 min   NaN   \n",
       "3      NaN  tt0041094  ...  November 12, 2019       G    69 min   NaN   \n",
       "4      NaN  tt0041094  ...  November 12, 2019       G    69 min   NaN   \n",
       "\n",
       "  listed_in description person_id             name  \\\n",
       "0       NaN         NaN     25056      Bing Crosby   \n",
       "1       NaN         NaN     25058   Basil Rathbone   \n",
       "2       NaN         NaN     25057       Eric Blore   \n",
       "3       NaN         NaN      5901  J. Pat O'Malley   \n",
       "4       NaN         NaN    598861     John McLeish   \n",
       "\n",
       "                                           character   role  \n",
       "0   Narrator (segment \"The Legend of Sleepy Hollow\")  ACTOR  \n",
       "1  Narrator (segment \"The Wind in the Willows\") (...  ACTOR  \n",
       "2                                   Mr. Toad (voice)  ACTOR  \n",
       "3                          Cyril Proudbottom (voice)  ACTOR  \n",
       "4                                 Prosecutor (voice)  ACTOR  \n",
       "\n",
       "[5 rows x 26 columns]"
      ]
     },
     "execution_count": 27,
     "metadata": {},
     "output_type": "execute_result"
    }
   ],
   "source": [
    "final_table.head()"
   ]
  },
  {
   "cell_type": "code",
   "execution_count": 28,
   "metadata": {
    "id": "tCbnL0GteRBu"
   },
   "outputs": [
    {
     "name": "stdout",
     "output_type": "stream",
     "text": [
      "Index(['id', 'title', 'type', 'release_year', 'age_certification', 'runtime',\n",
      "       'genres', 'production_countries', 'seasons', 'imdb_id', 'imdb_score',\n",
      "       'imdb_votes', 'tmdb_popularity', 'tmdb_score', 'director', 'country',\n",
      "       'date_added', 'rating', 'duration', 'cast', 'listed_in', 'description',\n",
      "       'person_id', 'name', 'character', 'role'],\n",
      "      dtype='object')\n"
     ]
    }
   ],
   "source": [
    "print(final_table.columns)"
   ]
  },
  {
   "cell_type": "markdown",
   "metadata": {
    "id": "GUUSplPleVfj"
   },
   "source": [
    "e visualizziamo gli eventuali elementi mancanti"
   ]
  },
  {
   "cell_type": "code",
   "execution_count": 29,
   "metadata": {
    "id": "75NrhkX2eawX"
   },
   "outputs": [
    {
     "data": {
      "text/plain": [
       "id                          0\n",
       "title                       0\n",
       "type                        0\n",
       "release_year                0\n",
       "age_certification       22496\n",
       "runtime                     0\n",
       "genres                      0\n",
       "production_countries        0\n",
       "seasons                 54660\n",
       "imdb_id                  3968\n",
       "imdb_score               4251\n",
       "imdb_votes               4288\n",
       "tmdb_popularity             0\n",
       "tmdb_score                525\n",
       "director                11698\n",
       "country                  4063\n",
       "date_added                  1\n",
       "rating                     30\n",
       "duration                    2\n",
       "cast                    21400\n",
       "listed_in               19352\n",
       "description             19352\n",
       "person_id                   0\n",
       "name                        0\n",
       "character                7059\n",
       "role                        0\n",
       "dtype: int64"
      ]
     },
     "execution_count": 29,
     "metadata": {},
     "output_type": "execute_result"
    }
   ],
   "source": [
    "final_table.isnull().sum()"
   ]
  },
  {
   "cell_type": "markdown",
   "metadata": {
    "id": "cvqfIQfrfcpm"
   },
   "source": [
    "concentriamoci sulla colonna date_added, intanto visualizzandola:"
   ]
  },
  {
   "cell_type": "code",
   "execution_count": 30,
   "metadata": {
    "id": "2zTGFy67fiFE"
   },
   "outputs": [
    {
     "name": "stdout",
     "output_type": "stream",
     "text": [
      "0        November 12, 2019\n",
      "1        November 12, 2019\n",
      "2        November 12, 2019\n",
      "3        November 12, 2019\n",
      "4        November 12, 2019\n",
      "               ...        \n",
      "66184        July 22, 2021\n",
      "66185        July 22, 2021\n",
      "66186        July 22, 2021\n",
      "66187        July 22, 2021\n",
      "66188        July 22, 2021\n",
      "Name: date_added, Length: 66189, dtype: object\n"
     ]
    }
   ],
   "source": [
    "print(final_table['date_added'])"
   ]
  },
  {
   "cell_type": "markdown",
   "metadata": {
    "id": "az3xlX6FfqfU"
   },
   "source": [
    "vediamo che giorni mesi e anni sono presenti. Potrebbe essere utile, però, separare queste informazioni, incorporandole in tre colonne diverse. "
   ]
  },
  {
   "cell_type": "markdown",
   "metadata": {
    "id": "491M0dHYgHjN"
   },
   "source": [
    "Facciamolo insieme, con due diversi passi:\n",
    "\n",
    "1. dobbiamo trasformare questa colonna in formato 'datetime' utilizzando la funzione di pandas 'to_datetime'"
   ]
  },
  {
   "cell_type": "code",
   "execution_count": 31,
   "metadata": {
    "id": "XnT_PqJMfwVC"
   },
   "outputs": [],
   "source": [
    "final_table['date_added'] = pd.to_datetime(final_table['date_added'])\n"
   ]
  },
  {
   "cell_type": "code",
   "execution_count": 32,
   "metadata": {
    "id": "clsUuXUlgEWX"
   },
   "outputs": [
    {
     "name": "stdout",
     "output_type": "stream",
     "text": [
      "0       2019-11-12\n",
      "1       2019-11-12\n",
      "2       2019-11-12\n",
      "3       2019-11-12\n",
      "4       2019-11-12\n",
      "           ...    \n",
      "66184   2021-07-22\n",
      "66185   2021-07-22\n",
      "66186   2021-07-22\n",
      "66187   2021-07-22\n",
      "66188   2021-07-22\n",
      "Name: date_added, Length: 66189, dtype: datetime64[ns]\n"
     ]
    }
   ],
   "source": [
    "print(final_table['date_added'])"
   ]
  },
  {
   "cell_type": "markdown",
   "metadata": {
    "id": "Tc-ZdT3xgTpW"
   },
   "source": [
    "poi, possiamo separare le varie entrate in tre nuove colonne, che si chiameranno day, month e year. Bisogna fare colonna.dt.year e cambiare poi l'ultimo metodo "
   ]
  },
  {
   "cell_type": "code",
   "execution_count": 43,
   "metadata": {
    "id": "ux4LoOeEgZvX"
   },
   "outputs": [],
   "source": [
    "final_table['day'] = final_table['date_added'].dt.day.fillna(0).astype(int)\n",
    "final_table['month'] = final_table['date_added'].dt.month.fillna(0).astype(int)\n",
    "final_table['year'] = final_table['date_added'].dt.year.fillna(0).astype(int)\n"
   ]
  },
  {
   "cell_type": "markdown",
   "metadata": {
    "id": "E0F5obochLBn"
   },
   "source": [
    "ora visualizziamo il risultato"
   ]
  },
  {
   "cell_type": "code",
   "execution_count": 44,
   "metadata": {
    "id": "5iD8Tx4phNLw"
   },
   "outputs": [
    {
     "data": {
      "text/html": [
       "<div>\n",
       "<style scoped>\n",
       "    .dataframe tbody tr th:only-of-type {\n",
       "        vertical-align: middle;\n",
       "    }\n",
       "\n",
       "    .dataframe tbody tr th {\n",
       "        vertical-align: top;\n",
       "    }\n",
       "\n",
       "    .dataframe thead th {\n",
       "        text-align: right;\n",
       "    }\n",
       "</style>\n",
       "<table border=\"1\" class=\"dataframe\">\n",
       "  <thead>\n",
       "    <tr style=\"text-align: right;\">\n",
       "      <th></th>\n",
       "      <th>id</th>\n",
       "      <th>title</th>\n",
       "      <th>type</th>\n",
       "      <th>release_year</th>\n",
       "      <th>age_certification</th>\n",
       "      <th>runtime</th>\n",
       "      <th>genres</th>\n",
       "      <th>production_countries</th>\n",
       "      <th>seasons</th>\n",
       "      <th>imdb_id</th>\n",
       "      <th>...</th>\n",
       "      <th>cast</th>\n",
       "      <th>listed_in</th>\n",
       "      <th>description</th>\n",
       "      <th>person_id</th>\n",
       "      <th>name</th>\n",
       "      <th>character</th>\n",
       "      <th>role</th>\n",
       "      <th>day</th>\n",
       "      <th>month</th>\n",
       "      <th>year</th>\n",
       "    </tr>\n",
       "  </thead>\n",
       "  <tbody>\n",
       "    <tr>\n",
       "      <th>0</th>\n",
       "      <td>tm61729</td>\n",
       "      <td>The Adventures of Ichabod and Mr. Toad</td>\n",
       "      <td>MOVIE</td>\n",
       "      <td>1950</td>\n",
       "      <td>G</td>\n",
       "      <td>68</td>\n",
       "      <td>['horror', 'fantasy', 'animation', 'comedy', '...</td>\n",
       "      <td>['US']</td>\n",
       "      <td>NaN</td>\n",
       "      <td>tt0041094</td>\n",
       "      <td>...</td>\n",
       "      <td>NaN</td>\n",
       "      <td>NaN</td>\n",
       "      <td>NaN</td>\n",
       "      <td>25056</td>\n",
       "      <td>Bing Crosby</td>\n",
       "      <td>Narrator (segment \"The Legend of Sleepy Hollow\")</td>\n",
       "      <td>ACTOR</td>\n",
       "      <td>12</td>\n",
       "      <td>11</td>\n",
       "      <td>2019</td>\n",
       "    </tr>\n",
       "    <tr>\n",
       "      <th>1</th>\n",
       "      <td>tm61729</td>\n",
       "      <td>The Adventures of Ichabod and Mr. Toad</td>\n",
       "      <td>MOVIE</td>\n",
       "      <td>1950</td>\n",
       "      <td>G</td>\n",
       "      <td>68</td>\n",
       "      <td>['horror', 'fantasy', 'animation', 'comedy', '...</td>\n",
       "      <td>['US']</td>\n",
       "      <td>NaN</td>\n",
       "      <td>tt0041094</td>\n",
       "      <td>...</td>\n",
       "      <td>NaN</td>\n",
       "      <td>NaN</td>\n",
       "      <td>NaN</td>\n",
       "      <td>25058</td>\n",
       "      <td>Basil Rathbone</td>\n",
       "      <td>Narrator (segment \"The Wind in the Willows\") (...</td>\n",
       "      <td>ACTOR</td>\n",
       "      <td>12</td>\n",
       "      <td>11</td>\n",
       "      <td>2019</td>\n",
       "    </tr>\n",
       "    <tr>\n",
       "      <th>2</th>\n",
       "      <td>tm61729</td>\n",
       "      <td>The Adventures of Ichabod and Mr. Toad</td>\n",
       "      <td>MOVIE</td>\n",
       "      <td>1950</td>\n",
       "      <td>G</td>\n",
       "      <td>68</td>\n",
       "      <td>['horror', 'fantasy', 'animation', 'comedy', '...</td>\n",
       "      <td>['US']</td>\n",
       "      <td>NaN</td>\n",
       "      <td>tt0041094</td>\n",
       "      <td>...</td>\n",
       "      <td>NaN</td>\n",
       "      <td>NaN</td>\n",
       "      <td>NaN</td>\n",
       "      <td>25057</td>\n",
       "      <td>Eric Blore</td>\n",
       "      <td>Mr. Toad (voice)</td>\n",
       "      <td>ACTOR</td>\n",
       "      <td>12</td>\n",
       "      <td>11</td>\n",
       "      <td>2019</td>\n",
       "    </tr>\n",
       "    <tr>\n",
       "      <th>3</th>\n",
       "      <td>tm61729</td>\n",
       "      <td>The Adventures of Ichabod and Mr. Toad</td>\n",
       "      <td>MOVIE</td>\n",
       "      <td>1950</td>\n",
       "      <td>G</td>\n",
       "      <td>68</td>\n",
       "      <td>['horror', 'fantasy', 'animation', 'comedy', '...</td>\n",
       "      <td>['US']</td>\n",
       "      <td>NaN</td>\n",
       "      <td>tt0041094</td>\n",
       "      <td>...</td>\n",
       "      <td>NaN</td>\n",
       "      <td>NaN</td>\n",
       "      <td>NaN</td>\n",
       "      <td>5901</td>\n",
       "      <td>J. Pat O'Malley</td>\n",
       "      <td>Cyril Proudbottom (voice)</td>\n",
       "      <td>ACTOR</td>\n",
       "      <td>12</td>\n",
       "      <td>11</td>\n",
       "      <td>2019</td>\n",
       "    </tr>\n",
       "    <tr>\n",
       "      <th>4</th>\n",
       "      <td>tm61729</td>\n",
       "      <td>The Adventures of Ichabod and Mr. Toad</td>\n",
       "      <td>MOVIE</td>\n",
       "      <td>1950</td>\n",
       "      <td>G</td>\n",
       "      <td>68</td>\n",
       "      <td>['horror', 'fantasy', 'animation', 'comedy', '...</td>\n",
       "      <td>['US']</td>\n",
       "      <td>NaN</td>\n",
       "      <td>tt0041094</td>\n",
       "      <td>...</td>\n",
       "      <td>NaN</td>\n",
       "      <td>NaN</td>\n",
       "      <td>NaN</td>\n",
       "      <td>598861</td>\n",
       "      <td>John McLeish</td>\n",
       "      <td>Prosecutor (voice)</td>\n",
       "      <td>ACTOR</td>\n",
       "      <td>12</td>\n",
       "      <td>11</td>\n",
       "      <td>2019</td>\n",
       "    </tr>\n",
       "  </tbody>\n",
       "</table>\n",
       "<p>5 rows × 29 columns</p>\n",
       "</div>"
      ],
      "text/plain": [
       "        id                                   title   type  release_year  \\\n",
       "0  tm61729  The Adventures of Ichabod and Mr. Toad  MOVIE          1950   \n",
       "1  tm61729  The Adventures of Ichabod and Mr. Toad  MOVIE          1950   \n",
       "2  tm61729  The Adventures of Ichabod and Mr. Toad  MOVIE          1950   \n",
       "3  tm61729  The Adventures of Ichabod and Mr. Toad  MOVIE          1950   \n",
       "4  tm61729  The Adventures of Ichabod and Mr. Toad  MOVIE          1950   \n",
       "\n",
       "  age_certification  runtime  \\\n",
       "0                 G       68   \n",
       "1                 G       68   \n",
       "2                 G       68   \n",
       "3                 G       68   \n",
       "4                 G       68   \n",
       "\n",
       "                                              genres production_countries  \\\n",
       "0  ['horror', 'fantasy', 'animation', 'comedy', '...               ['US']   \n",
       "1  ['horror', 'fantasy', 'animation', 'comedy', '...               ['US']   \n",
       "2  ['horror', 'fantasy', 'animation', 'comedy', '...               ['US']   \n",
       "3  ['horror', 'fantasy', 'animation', 'comedy', '...               ['US']   \n",
       "4  ['horror', 'fantasy', 'animation', 'comedy', '...               ['US']   \n",
       "\n",
       "   seasons    imdb_id  ...  cast  listed_in  description  person_id  \\\n",
       "0      NaN  tt0041094  ...   NaN        NaN          NaN      25056   \n",
       "1      NaN  tt0041094  ...   NaN        NaN          NaN      25058   \n",
       "2      NaN  tt0041094  ...   NaN        NaN          NaN      25057   \n",
       "3      NaN  tt0041094  ...   NaN        NaN          NaN       5901   \n",
       "4      NaN  tt0041094  ...   NaN        NaN          NaN     598861   \n",
       "\n",
       "              name                                          character   role  \\\n",
       "0      Bing Crosby   Narrator (segment \"The Legend of Sleepy Hollow\")  ACTOR   \n",
       "1   Basil Rathbone  Narrator (segment \"The Wind in the Willows\") (...  ACTOR   \n",
       "2       Eric Blore                                   Mr. Toad (voice)  ACTOR   \n",
       "3  J. Pat O'Malley                          Cyril Proudbottom (voice)  ACTOR   \n",
       "4     John McLeish                                 Prosecutor (voice)  ACTOR   \n",
       "\n",
       "  day month  year  \n",
       "0  12    11  2019  \n",
       "1  12    11  2019  \n",
       "2  12    11  2019  \n",
       "3  12    11  2019  \n",
       "4  12    11  2019  \n",
       "\n",
       "[5 rows x 29 columns]"
      ]
     },
     "execution_count": 44,
     "metadata": {},
     "output_type": "execute_result"
    }
   ],
   "source": [
    "final_table.head()"
   ]
  },
  {
   "cell_type": "markdown",
   "metadata": {
    "id": "78UR3HdDhzbU"
   },
   "source": [
    "ora creiamo una copia della tabella, contenente soltanto i film.\n"
   ]
  },
  {
   "cell_type": "code",
   "execution_count": 48,
   "metadata": {
    "id": "Tqced5m5pc3I"
   },
   "outputs": [
    {
     "name": "stdout",
     "output_type": "stream",
     "text": [
      "solo film:  (54660, 29)\n",
      "anche altri tipi di show:  (66189, 29)\n",
      "visualizziamo le prime 5 righe della nuova tabella con i film\n"
     ]
    },
    {
     "data": {
      "text/html": [
       "<div>\n",
       "<style scoped>\n",
       "    .dataframe tbody tr th:only-of-type {\n",
       "        vertical-align: middle;\n",
       "    }\n",
       "\n",
       "    .dataframe tbody tr th {\n",
       "        vertical-align: top;\n",
       "    }\n",
       "\n",
       "    .dataframe thead th {\n",
       "        text-align: right;\n",
       "    }\n",
       "</style>\n",
       "<table border=\"1\" class=\"dataframe\">\n",
       "  <thead>\n",
       "    <tr style=\"text-align: right;\">\n",
       "      <th></th>\n",
       "      <th>id</th>\n",
       "      <th>title</th>\n",
       "      <th>type</th>\n",
       "      <th>release_year</th>\n",
       "      <th>age_certification</th>\n",
       "      <th>runtime</th>\n",
       "      <th>genres</th>\n",
       "      <th>production_countries</th>\n",
       "      <th>seasons</th>\n",
       "      <th>imdb_id</th>\n",
       "      <th>...</th>\n",
       "      <th>cast</th>\n",
       "      <th>listed_in</th>\n",
       "      <th>description</th>\n",
       "      <th>person_id</th>\n",
       "      <th>name</th>\n",
       "      <th>character</th>\n",
       "      <th>role</th>\n",
       "      <th>day</th>\n",
       "      <th>month</th>\n",
       "      <th>year</th>\n",
       "    </tr>\n",
       "  </thead>\n",
       "  <tbody>\n",
       "    <tr>\n",
       "      <th>0</th>\n",
       "      <td>tm61729</td>\n",
       "      <td>The Adventures of Ichabod and Mr. Toad</td>\n",
       "      <td>MOVIE</td>\n",
       "      <td>1950</td>\n",
       "      <td>G</td>\n",
       "      <td>68</td>\n",
       "      <td>['horror', 'fantasy', 'animation', 'comedy', '...</td>\n",
       "      <td>['US']</td>\n",
       "      <td>NaN</td>\n",
       "      <td>tt0041094</td>\n",
       "      <td>...</td>\n",
       "      <td>NaN</td>\n",
       "      <td>NaN</td>\n",
       "      <td>NaN</td>\n",
       "      <td>25056</td>\n",
       "      <td>Bing Crosby</td>\n",
       "      <td>Narrator (segment \"The Legend of Sleepy Hollow\")</td>\n",
       "      <td>ACTOR</td>\n",
       "      <td>12</td>\n",
       "      <td>11</td>\n",
       "      <td>2019</td>\n",
       "    </tr>\n",
       "    <tr>\n",
       "      <th>1</th>\n",
       "      <td>tm61729</td>\n",
       "      <td>The Adventures of Ichabod and Mr. Toad</td>\n",
       "      <td>MOVIE</td>\n",
       "      <td>1950</td>\n",
       "      <td>G</td>\n",
       "      <td>68</td>\n",
       "      <td>['horror', 'fantasy', 'animation', 'comedy', '...</td>\n",
       "      <td>['US']</td>\n",
       "      <td>NaN</td>\n",
       "      <td>tt0041094</td>\n",
       "      <td>...</td>\n",
       "      <td>NaN</td>\n",
       "      <td>NaN</td>\n",
       "      <td>NaN</td>\n",
       "      <td>25058</td>\n",
       "      <td>Basil Rathbone</td>\n",
       "      <td>Narrator (segment \"The Wind in the Willows\") (...</td>\n",
       "      <td>ACTOR</td>\n",
       "      <td>12</td>\n",
       "      <td>11</td>\n",
       "      <td>2019</td>\n",
       "    </tr>\n",
       "    <tr>\n",
       "      <th>2</th>\n",
       "      <td>tm61729</td>\n",
       "      <td>The Adventures of Ichabod and Mr. Toad</td>\n",
       "      <td>MOVIE</td>\n",
       "      <td>1950</td>\n",
       "      <td>G</td>\n",
       "      <td>68</td>\n",
       "      <td>['horror', 'fantasy', 'animation', 'comedy', '...</td>\n",
       "      <td>['US']</td>\n",
       "      <td>NaN</td>\n",
       "      <td>tt0041094</td>\n",
       "      <td>...</td>\n",
       "      <td>NaN</td>\n",
       "      <td>NaN</td>\n",
       "      <td>NaN</td>\n",
       "      <td>25057</td>\n",
       "      <td>Eric Blore</td>\n",
       "      <td>Mr. Toad (voice)</td>\n",
       "      <td>ACTOR</td>\n",
       "      <td>12</td>\n",
       "      <td>11</td>\n",
       "      <td>2019</td>\n",
       "    </tr>\n",
       "    <tr>\n",
       "      <th>3</th>\n",
       "      <td>tm61729</td>\n",
       "      <td>The Adventures of Ichabod and Mr. Toad</td>\n",
       "      <td>MOVIE</td>\n",
       "      <td>1950</td>\n",
       "      <td>G</td>\n",
       "      <td>68</td>\n",
       "      <td>['horror', 'fantasy', 'animation', 'comedy', '...</td>\n",
       "      <td>['US']</td>\n",
       "      <td>NaN</td>\n",
       "      <td>tt0041094</td>\n",
       "      <td>...</td>\n",
       "      <td>NaN</td>\n",
       "      <td>NaN</td>\n",
       "      <td>NaN</td>\n",
       "      <td>5901</td>\n",
       "      <td>J. Pat O'Malley</td>\n",
       "      <td>Cyril Proudbottom (voice)</td>\n",
       "      <td>ACTOR</td>\n",
       "      <td>12</td>\n",
       "      <td>11</td>\n",
       "      <td>2019</td>\n",
       "    </tr>\n",
       "    <tr>\n",
       "      <th>4</th>\n",
       "      <td>tm61729</td>\n",
       "      <td>The Adventures of Ichabod and Mr. Toad</td>\n",
       "      <td>MOVIE</td>\n",
       "      <td>1950</td>\n",
       "      <td>G</td>\n",
       "      <td>68</td>\n",
       "      <td>['horror', 'fantasy', 'animation', 'comedy', '...</td>\n",
       "      <td>['US']</td>\n",
       "      <td>NaN</td>\n",
       "      <td>tt0041094</td>\n",
       "      <td>...</td>\n",
       "      <td>NaN</td>\n",
       "      <td>NaN</td>\n",
       "      <td>NaN</td>\n",
       "      <td>598861</td>\n",
       "      <td>John McLeish</td>\n",
       "      <td>Prosecutor (voice)</td>\n",
       "      <td>ACTOR</td>\n",
       "      <td>12</td>\n",
       "      <td>11</td>\n",
       "      <td>2019</td>\n",
       "    </tr>\n",
       "  </tbody>\n",
       "</table>\n",
       "<p>5 rows × 29 columns</p>\n",
       "</div>"
      ],
      "text/plain": [
       "        id                                   title   type  release_year  \\\n",
       "0  tm61729  The Adventures of Ichabod and Mr. Toad  MOVIE          1950   \n",
       "1  tm61729  The Adventures of Ichabod and Mr. Toad  MOVIE          1950   \n",
       "2  tm61729  The Adventures of Ichabod and Mr. Toad  MOVIE          1950   \n",
       "3  tm61729  The Adventures of Ichabod and Mr. Toad  MOVIE          1950   \n",
       "4  tm61729  The Adventures of Ichabod and Mr. Toad  MOVIE          1950   \n",
       "\n",
       "  age_certification  runtime  \\\n",
       "0                 G       68   \n",
       "1                 G       68   \n",
       "2                 G       68   \n",
       "3                 G       68   \n",
       "4                 G       68   \n",
       "\n",
       "                                              genres production_countries  \\\n",
       "0  ['horror', 'fantasy', 'animation', 'comedy', '...               ['US']   \n",
       "1  ['horror', 'fantasy', 'animation', 'comedy', '...               ['US']   \n",
       "2  ['horror', 'fantasy', 'animation', 'comedy', '...               ['US']   \n",
       "3  ['horror', 'fantasy', 'animation', 'comedy', '...               ['US']   \n",
       "4  ['horror', 'fantasy', 'animation', 'comedy', '...               ['US']   \n",
       "\n",
       "   seasons    imdb_id  ...  cast  listed_in  description  person_id  \\\n",
       "0      NaN  tt0041094  ...   NaN        NaN          NaN      25056   \n",
       "1      NaN  tt0041094  ...   NaN        NaN          NaN      25058   \n",
       "2      NaN  tt0041094  ...   NaN        NaN          NaN      25057   \n",
       "3      NaN  tt0041094  ...   NaN        NaN          NaN       5901   \n",
       "4      NaN  tt0041094  ...   NaN        NaN          NaN     598861   \n",
       "\n",
       "              name                                          character   role  \\\n",
       "0      Bing Crosby   Narrator (segment \"The Legend of Sleepy Hollow\")  ACTOR   \n",
       "1   Basil Rathbone  Narrator (segment \"The Wind in the Willows\") (...  ACTOR   \n",
       "2       Eric Blore                                   Mr. Toad (voice)  ACTOR   \n",
       "3  J. Pat O'Malley                          Cyril Proudbottom (voice)  ACTOR   \n",
       "4     John McLeish                                 Prosecutor (voice)  ACTOR   \n",
       "\n",
       "  day month  year  \n",
       "0  12    11  2019  \n",
       "1  12    11  2019  \n",
       "2  12    11  2019  \n",
       "3  12    11  2019  \n",
       "4  12    11  2019  \n",
       "\n",
       "[5 rows x 29 columns]"
      ]
     },
     "execution_count": 48,
     "metadata": {},
     "output_type": "execute_result"
    }
   ],
   "source": [
    "movies_table = final_table[final_table['type'] == 'MOVIE'].copy()\n",
    "print(\"solo film: \", movies_table.shape)\n",
    "print(\"anche altri tipi di show: \", final_table.shape)\n",
    "print(\"visualizziamo le prime 5 righe della nuova tabella con i film\")\n",
    "movies_table.head()"
   ]
  },
  {
   "cell_type": "markdown",
   "metadata": {
    "id": "Z6VJ79D-rOpN"
   },
   "source": [
    "a questo punto, possiamo modificare la durata in ore, per prima cosa eliminiamo la parola minuti"
   ]
  },
  {
   "cell_type": "code",
   "execution_count": 49,
   "metadata": {
    "id": "kX-nZ_uuqfJ0"
   },
   "outputs": [
    {
     "ename": "ValueError",
     "evalue": "could not convert string to float: '1 Season'",
     "output_type": "error",
     "traceback": [
      "\u001b[0;31m---------------------------------------------------------------------------\u001b[0m",
      "\u001b[0;31mValueError\u001b[0m                                Traceback (most recent call last)",
      "Cell \u001b[0;32mIn[49], line 1\u001b[0m\n\u001b[0;32m----> 1\u001b[0m movies_table[\u001b[38;5;124m'\u001b[39m\u001b[38;5;124mduration\u001b[39m\u001b[38;5;124m'\u001b[39m] \u001b[38;5;241m=\u001b[39m \u001b[43mmovies_table\u001b[49m\u001b[43m[\u001b[49m\u001b[38;5;124;43m'\u001b[39;49m\u001b[38;5;124;43mduration\u001b[39;49m\u001b[38;5;124;43m'\u001b[39;49m\u001b[43m]\u001b[49m\u001b[38;5;241;43m.\u001b[39;49m\u001b[43mstr\u001b[49m\u001b[38;5;241;43m.\u001b[39;49m\u001b[43mreplace\u001b[49m\u001b[43m(\u001b[49m\u001b[38;5;124;43m'\u001b[39;49m\u001b[38;5;124;43mmin\u001b[39;49m\u001b[38;5;124;43m'\u001b[39;49m\u001b[43m,\u001b[49m\u001b[43m \u001b[49m\u001b[38;5;124;43m'\u001b[39;49m\u001b[38;5;124;43m'\u001b[39;49m\u001b[43m)\u001b[49m\u001b[38;5;241;43m.\u001b[39;49m\u001b[43mastype\u001b[49m\u001b[43m(\u001b[49m\u001b[38;5;28;43mfloat\u001b[39;49m\u001b[43m)\u001b[49m\n",
      "File \u001b[0;32m/srv/conda/envs/notebook/lib/python3.10/site-packages/pandas/core/generic.py:6640\u001b[0m, in \u001b[0;36mNDFrame.astype\u001b[0;34m(self, dtype, copy, errors)\u001b[0m\n\u001b[1;32m   6634\u001b[0m     results \u001b[38;5;241m=\u001b[39m [\n\u001b[1;32m   6635\u001b[0m         ser\u001b[38;5;241m.\u001b[39mastype(dtype, copy\u001b[38;5;241m=\u001b[39mcopy, errors\u001b[38;5;241m=\u001b[39merrors) \u001b[38;5;28;01mfor\u001b[39;00m _, ser \u001b[38;5;129;01min\u001b[39;00m \u001b[38;5;28mself\u001b[39m\u001b[38;5;241m.\u001b[39mitems()\n\u001b[1;32m   6636\u001b[0m     ]\n\u001b[1;32m   6638\u001b[0m \u001b[38;5;28;01melse\u001b[39;00m:\n\u001b[1;32m   6639\u001b[0m     \u001b[38;5;66;03m# else, only a single dtype is given\u001b[39;00m\n\u001b[0;32m-> 6640\u001b[0m     new_data \u001b[38;5;241m=\u001b[39m \u001b[38;5;28;43mself\u001b[39;49m\u001b[38;5;241;43m.\u001b[39;49m\u001b[43m_mgr\u001b[49m\u001b[38;5;241;43m.\u001b[39;49m\u001b[43mastype\u001b[49m\u001b[43m(\u001b[49m\u001b[43mdtype\u001b[49m\u001b[38;5;241;43m=\u001b[39;49m\u001b[43mdtype\u001b[49m\u001b[43m,\u001b[49m\u001b[43m \u001b[49m\u001b[43mcopy\u001b[49m\u001b[38;5;241;43m=\u001b[39;49m\u001b[43mcopy\u001b[49m\u001b[43m,\u001b[49m\u001b[43m \u001b[49m\u001b[43merrors\u001b[49m\u001b[38;5;241;43m=\u001b[39;49m\u001b[43merrors\u001b[49m\u001b[43m)\u001b[49m\n\u001b[1;32m   6641\u001b[0m     res \u001b[38;5;241m=\u001b[39m \u001b[38;5;28mself\u001b[39m\u001b[38;5;241m.\u001b[39m_constructor_from_mgr(new_data, axes\u001b[38;5;241m=\u001b[39mnew_data\u001b[38;5;241m.\u001b[39maxes)\n\u001b[1;32m   6642\u001b[0m     \u001b[38;5;28;01mreturn\u001b[39;00m res\u001b[38;5;241m.\u001b[39m__finalize__(\u001b[38;5;28mself\u001b[39m, method\u001b[38;5;241m=\u001b[39m\u001b[38;5;124m\"\u001b[39m\u001b[38;5;124mastype\u001b[39m\u001b[38;5;124m\"\u001b[39m)\n",
      "File \u001b[0;32m/srv/conda/envs/notebook/lib/python3.10/site-packages/pandas/core/internals/managers.py:430\u001b[0m, in \u001b[0;36mBaseBlockManager.astype\u001b[0;34m(self, dtype, copy, errors)\u001b[0m\n\u001b[1;32m    427\u001b[0m \u001b[38;5;28;01melif\u001b[39;00m using_copy_on_write():\n\u001b[1;32m    428\u001b[0m     copy \u001b[38;5;241m=\u001b[39m \u001b[38;5;28;01mFalse\u001b[39;00m\n\u001b[0;32m--> 430\u001b[0m \u001b[38;5;28;01mreturn\u001b[39;00m \u001b[38;5;28;43mself\u001b[39;49m\u001b[38;5;241;43m.\u001b[39;49m\u001b[43mapply\u001b[49m\u001b[43m(\u001b[49m\n\u001b[1;32m    431\u001b[0m \u001b[43m    \u001b[49m\u001b[38;5;124;43m\"\u001b[39;49m\u001b[38;5;124;43mastype\u001b[39;49m\u001b[38;5;124;43m\"\u001b[39;49m\u001b[43m,\u001b[49m\n\u001b[1;32m    432\u001b[0m \u001b[43m    \u001b[49m\u001b[43mdtype\u001b[49m\u001b[38;5;241;43m=\u001b[39;49m\u001b[43mdtype\u001b[49m\u001b[43m,\u001b[49m\n\u001b[1;32m    433\u001b[0m \u001b[43m    \u001b[49m\u001b[43mcopy\u001b[49m\u001b[38;5;241;43m=\u001b[39;49m\u001b[43mcopy\u001b[49m\u001b[43m,\u001b[49m\n\u001b[1;32m    434\u001b[0m \u001b[43m    \u001b[49m\u001b[43merrors\u001b[49m\u001b[38;5;241;43m=\u001b[39;49m\u001b[43merrors\u001b[49m\u001b[43m,\u001b[49m\n\u001b[1;32m    435\u001b[0m \u001b[43m    \u001b[49m\u001b[43musing_cow\u001b[49m\u001b[38;5;241;43m=\u001b[39;49m\u001b[43musing_copy_on_write\u001b[49m\u001b[43m(\u001b[49m\u001b[43m)\u001b[49m\u001b[43m,\u001b[49m\n\u001b[1;32m    436\u001b[0m \u001b[43m\u001b[49m\u001b[43m)\u001b[49m\n",
      "File \u001b[0;32m/srv/conda/envs/notebook/lib/python3.10/site-packages/pandas/core/internals/managers.py:363\u001b[0m, in \u001b[0;36mBaseBlockManager.apply\u001b[0;34m(self, f, align_keys, **kwargs)\u001b[0m\n\u001b[1;32m    361\u001b[0m         applied \u001b[38;5;241m=\u001b[39m b\u001b[38;5;241m.\u001b[39mapply(f, \u001b[38;5;241m*\u001b[39m\u001b[38;5;241m*\u001b[39mkwargs)\n\u001b[1;32m    362\u001b[0m     \u001b[38;5;28;01melse\u001b[39;00m:\n\u001b[0;32m--> 363\u001b[0m         applied \u001b[38;5;241m=\u001b[39m \u001b[38;5;28;43mgetattr\u001b[39;49m\u001b[43m(\u001b[49m\u001b[43mb\u001b[49m\u001b[43m,\u001b[49m\u001b[43m \u001b[49m\u001b[43mf\u001b[49m\u001b[43m)\u001b[49m\u001b[43m(\u001b[49m\u001b[38;5;241;43m*\u001b[39;49m\u001b[38;5;241;43m*\u001b[39;49m\u001b[43mkwargs\u001b[49m\u001b[43m)\u001b[49m\n\u001b[1;32m    364\u001b[0m     result_blocks \u001b[38;5;241m=\u001b[39m extend_blocks(applied, result_blocks)\n\u001b[1;32m    366\u001b[0m out \u001b[38;5;241m=\u001b[39m \u001b[38;5;28mtype\u001b[39m(\u001b[38;5;28mself\u001b[39m)\u001b[38;5;241m.\u001b[39mfrom_blocks(result_blocks, \u001b[38;5;28mself\u001b[39m\u001b[38;5;241m.\u001b[39maxes)\n",
      "File \u001b[0;32m/srv/conda/envs/notebook/lib/python3.10/site-packages/pandas/core/internals/blocks.py:758\u001b[0m, in \u001b[0;36mBlock.astype\u001b[0;34m(self, dtype, copy, errors, using_cow, squeeze)\u001b[0m\n\u001b[1;32m    755\u001b[0m         \u001b[38;5;28;01mraise\u001b[39;00m \u001b[38;5;167;01mValueError\u001b[39;00m(\u001b[38;5;124m\"\u001b[39m\u001b[38;5;124mCan not squeeze with more than one column.\u001b[39m\u001b[38;5;124m\"\u001b[39m)\n\u001b[1;32m    756\u001b[0m     values \u001b[38;5;241m=\u001b[39m values[\u001b[38;5;241m0\u001b[39m, :]  \u001b[38;5;66;03m# type: ignore[call-overload]\u001b[39;00m\n\u001b[0;32m--> 758\u001b[0m new_values \u001b[38;5;241m=\u001b[39m \u001b[43mastype_array_safe\u001b[49m\u001b[43m(\u001b[49m\u001b[43mvalues\u001b[49m\u001b[43m,\u001b[49m\u001b[43m \u001b[49m\u001b[43mdtype\u001b[49m\u001b[43m,\u001b[49m\u001b[43m \u001b[49m\u001b[43mcopy\u001b[49m\u001b[38;5;241;43m=\u001b[39;49m\u001b[43mcopy\u001b[49m\u001b[43m,\u001b[49m\u001b[43m \u001b[49m\u001b[43merrors\u001b[49m\u001b[38;5;241;43m=\u001b[39;49m\u001b[43merrors\u001b[49m\u001b[43m)\u001b[49m\n\u001b[1;32m    760\u001b[0m new_values \u001b[38;5;241m=\u001b[39m maybe_coerce_values(new_values)\n\u001b[1;32m    762\u001b[0m refs \u001b[38;5;241m=\u001b[39m \u001b[38;5;28;01mNone\u001b[39;00m\n",
      "File \u001b[0;32m/srv/conda/envs/notebook/lib/python3.10/site-packages/pandas/core/dtypes/astype.py:237\u001b[0m, in \u001b[0;36mastype_array_safe\u001b[0;34m(values, dtype, copy, errors)\u001b[0m\n\u001b[1;32m    234\u001b[0m     dtype \u001b[38;5;241m=\u001b[39m dtype\u001b[38;5;241m.\u001b[39mnumpy_dtype\n\u001b[1;32m    236\u001b[0m \u001b[38;5;28;01mtry\u001b[39;00m:\n\u001b[0;32m--> 237\u001b[0m     new_values \u001b[38;5;241m=\u001b[39m \u001b[43mastype_array\u001b[49m\u001b[43m(\u001b[49m\u001b[43mvalues\u001b[49m\u001b[43m,\u001b[49m\u001b[43m \u001b[49m\u001b[43mdtype\u001b[49m\u001b[43m,\u001b[49m\u001b[43m \u001b[49m\u001b[43mcopy\u001b[49m\u001b[38;5;241;43m=\u001b[39;49m\u001b[43mcopy\u001b[49m\u001b[43m)\u001b[49m\n\u001b[1;32m    238\u001b[0m \u001b[38;5;28;01mexcept\u001b[39;00m (\u001b[38;5;167;01mValueError\u001b[39;00m, \u001b[38;5;167;01mTypeError\u001b[39;00m):\n\u001b[1;32m    239\u001b[0m     \u001b[38;5;66;03m# e.g. _astype_nansafe can fail on object-dtype of strings\u001b[39;00m\n\u001b[1;32m    240\u001b[0m     \u001b[38;5;66;03m#  trying to convert to float\u001b[39;00m\n\u001b[1;32m    241\u001b[0m     \u001b[38;5;28;01mif\u001b[39;00m errors \u001b[38;5;241m==\u001b[39m \u001b[38;5;124m\"\u001b[39m\u001b[38;5;124mignore\u001b[39m\u001b[38;5;124m\"\u001b[39m:\n",
      "File \u001b[0;32m/srv/conda/envs/notebook/lib/python3.10/site-packages/pandas/core/dtypes/astype.py:182\u001b[0m, in \u001b[0;36mastype_array\u001b[0;34m(values, dtype, copy)\u001b[0m\n\u001b[1;32m    179\u001b[0m     values \u001b[38;5;241m=\u001b[39m values\u001b[38;5;241m.\u001b[39mastype(dtype, copy\u001b[38;5;241m=\u001b[39mcopy)\n\u001b[1;32m    181\u001b[0m \u001b[38;5;28;01melse\u001b[39;00m:\n\u001b[0;32m--> 182\u001b[0m     values \u001b[38;5;241m=\u001b[39m \u001b[43m_astype_nansafe\u001b[49m\u001b[43m(\u001b[49m\u001b[43mvalues\u001b[49m\u001b[43m,\u001b[49m\u001b[43m \u001b[49m\u001b[43mdtype\u001b[49m\u001b[43m,\u001b[49m\u001b[43m \u001b[49m\u001b[43mcopy\u001b[49m\u001b[38;5;241;43m=\u001b[39;49m\u001b[43mcopy\u001b[49m\u001b[43m)\u001b[49m\n\u001b[1;32m    184\u001b[0m \u001b[38;5;66;03m# in pandas we don't store numpy str dtypes, so convert to object\u001b[39;00m\n\u001b[1;32m    185\u001b[0m \u001b[38;5;28;01mif\u001b[39;00m \u001b[38;5;28misinstance\u001b[39m(dtype, np\u001b[38;5;241m.\u001b[39mdtype) \u001b[38;5;129;01mand\u001b[39;00m \u001b[38;5;28missubclass\u001b[39m(values\u001b[38;5;241m.\u001b[39mdtype\u001b[38;5;241m.\u001b[39mtype, \u001b[38;5;28mstr\u001b[39m):\n",
      "File \u001b[0;32m/srv/conda/envs/notebook/lib/python3.10/site-packages/pandas/core/dtypes/astype.py:133\u001b[0m, in \u001b[0;36m_astype_nansafe\u001b[0;34m(arr, dtype, copy, skipna)\u001b[0m\n\u001b[1;32m    129\u001b[0m     \u001b[38;5;28;01mraise\u001b[39;00m \u001b[38;5;167;01mValueError\u001b[39;00m(msg)\n\u001b[1;32m    131\u001b[0m \u001b[38;5;28;01mif\u001b[39;00m copy \u001b[38;5;129;01mor\u001b[39;00m arr\u001b[38;5;241m.\u001b[39mdtype \u001b[38;5;241m==\u001b[39m \u001b[38;5;28mobject\u001b[39m \u001b[38;5;129;01mor\u001b[39;00m dtype \u001b[38;5;241m==\u001b[39m \u001b[38;5;28mobject\u001b[39m:\n\u001b[1;32m    132\u001b[0m     \u001b[38;5;66;03m# Explicit copy, or required since NumPy can't view from / to object.\u001b[39;00m\n\u001b[0;32m--> 133\u001b[0m     \u001b[38;5;28;01mreturn\u001b[39;00m \u001b[43marr\u001b[49m\u001b[38;5;241;43m.\u001b[39;49m\u001b[43mastype\u001b[49m\u001b[43m(\u001b[49m\u001b[43mdtype\u001b[49m\u001b[43m,\u001b[49m\u001b[43m \u001b[49m\u001b[43mcopy\u001b[49m\u001b[38;5;241;43m=\u001b[39;49m\u001b[38;5;28;43;01mTrue\u001b[39;49;00m\u001b[43m)\u001b[49m\n\u001b[1;32m    135\u001b[0m \u001b[38;5;28;01mreturn\u001b[39;00m arr\u001b[38;5;241m.\u001b[39mastype(dtype, copy\u001b[38;5;241m=\u001b[39mcopy)\n",
      "\u001b[0;31mValueError\u001b[0m: could not convert string to float: '1 Season'"
     ]
    }
   ],
   "source": [
    "movies_table['duration'] = movies_table['duration'].str.replace('min', '').astype(float)\n"
   ]
  },
  {
   "cell_type": "markdown",
   "metadata": {
    "id": "0zJvzJTBrUGc"
   },
   "source": [
    "quindi dividere per 60 (dopo conversione float)"
   ]
  },
  {
   "cell_type": "code",
   "execution_count": null,
   "metadata": {
    "id": "c6qvwq79rWoC"
   },
   "outputs": [],
   "source": [
    "movies_table['duration'] /= 60"
   ]
  },
  {
   "cell_type": "markdown",
   "metadata": {
    "id": "uwyl2zc2rkEj"
   },
   "source": [
    "e finalmente, aggiungere un suffisso per indicare le ore, per esempio 'hours', tornando a stringa"
   ]
  },
  {
   "cell_type": "code",
   "execution_count": null,
   "metadata": {
    "id": "DpMqGoB-ro4Z"
   },
   "outputs": [],
   "source": [
    "movies_table['duration'] = movies_table['duration'].astype(str) + ' hours'"
   ]
  },
  {
   "cell_type": "markdown",
   "metadata": {
    "id": "Xt1P2LRDrzM3"
   },
   "source": [
    "stampiamo il risultato finale "
   ]
  },
  {
   "cell_type": "code",
   "execution_count": null,
   "metadata": {
    "id": "5kPidNo8r0d2"
   },
   "outputs": [],
   "source": [
    "print(movies['duration'])"
   ]
  },
  {
   "cell_type": "markdown",
   "metadata": {
    "id": "G712OMBtezly"
   },
   "source": [
    "concentriamoci sulla colonna release_year. Innanzitutto eliminiamo le righe dove questa informazinoe non sia presente. Usiamo la funzione dropna di pandas \n",
    "dropna(axis = , subset = [nome colonna])"
   ]
  },
  {
   "cell_type": "code",
   "execution_count": null,
   "metadata": {
    "id": "f8j3ID7de6Qm"
   },
   "outputs": [],
   "source": [
    "#completare qui "
   ]
  },
  {
   "cell_type": "code",
   "execution_count": null,
   "metadata": {
    "id": "-nfeOBwUfAVp",
    "tags": []
   },
   "outputs": [],
   "source": [
    "final_table_clean.isnull().sum()"
   ]
  }
 ],
 "metadata": {
  "accelerator": "GPU",
  "colab": {
   "provenance": []
  },
  "gpuClass": "standard",
  "kernelspec": {
   "display_name": "Python 3 (ipykernel)",
   "language": "python",
   "name": "python3"
  },
  "language_info": {
   "codemirror_mode": {
    "name": "ipython",
    "version": 3
   },
   "file_extension": ".py",
   "mimetype": "text/x-python",
   "name": "python",
   "nbconvert_exporter": "python",
   "pygments_lexer": "ipython3",
   "version": "3.10.12"
  }
 },
 "nbformat": 4,
 "nbformat_minor": 4
}
