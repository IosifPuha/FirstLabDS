{
 "cells": [
  {
   "cell_type": "markdown",
   "metadata": {
    "id": "chtT18rhZV9f"
   },
   "source": [
    "# Laboratorio 1\n",
    "\n",
    "# Preparazione del dato: pulizia e integrazione (prova aggiornamento da Binder)\n",
    "\n",
    "06/03/2024"
   ]
  },
  {
   "cell_type": "markdown",
   "metadata": {
    "id": "40pWER7sZV9g"
   },
   "source": [
    "In questo laboratorio impareremo a trattare dati provenienti da sorgenti diverse, cercando di ottenere informazioni integrate e complete. \n",
    "Come esempio, ci concentreremo su dati riguardanti film e serie tv dei maggiori servizi di streaming. "
   ]
  },
  {
   "cell_type": "code",
   "execution_count": null,
   "metadata": {
    "id": "ARzfzX9HZV9h"
   },
   "outputs": [],
   "source": [
    "import pandas as pd"
   ]
  },
  {
   "cell_type": "markdown",
   "metadata": {
    "id": "mYPdJ9ozZV9h"
   },
   "source": [
    "### Carico i dati di Netflix"
   ]
  },
  {
   "cell_type": "code",
   "execution_count": null,
   "metadata": {
    "id": "HkyV4rGiZV9h"
   },
   "outputs": [],
   "source": [
    "netflix_titles = pd.read_csv(\"netflix_titles.csv\")"
   ]
  },
  {
   "cell_type": "markdown",
   "metadata": {
    "id": "6F2YBbjqZV9h"
   },
   "source": [
    "Diamo un'occhiata a come è organizzato il dataset"
   ]
  },
  {
   "cell_type": "code",
   "execution_count": null,
   "metadata": {
    "id": "FZxLC5OXZV9h",
    "scrolled": true
   },
   "outputs": [],
   "source": [
    "netflix_titles.head()"
   ]
  },
  {
   "cell_type": "markdown",
   "metadata": {
    "id": "3I_M9JPhNSmg"
   },
   "source": [
    "ed allo schema (notate che con head() alcune delle colonne, per problemi di spazio, non compaiono)"
   ]
  },
  {
   "cell_type": "code",
   "execution_count": null,
   "metadata": {
    "id": "ZUaW4DbTNSmg"
   },
   "outputs": [],
   "source": [
    "netflix_titles.info()"
   ]
  },
  {
   "cell_type": "markdown",
   "metadata": {
    "id": "D5akRnB1ZV9i"
   },
   "source": [
    "### Carico i dati di Disney+"
   ]
  },
  {
   "cell_type": "code",
   "execution_count": null,
   "metadata": {
    "id": "FFkhlVa8ZV9i"
   },
   "outputs": [],
   "source": [
    "disney_titles = pd.read_csv(\"disney_titles.csv\")"
   ]
  },
  {
   "cell_type": "code",
   "execution_count": null,
   "metadata": {
    "id": "FcvAqZ10ZV9i"
   },
   "outputs": [],
   "source": [
    "disney_titles.head()"
   ]
  },
  {
   "cell_type": "code",
   "execution_count": null,
   "metadata": {
    "id": "JOtmD-guNSmh"
   },
   "outputs": [],
   "source": [
    "disney_titles.info()"
   ]
  },
  {
   "cell_type": "markdown",
   "metadata": {
    "id": "YfMT0ezAZV9i"
   },
   "source": [
    "Come abbiamo visto, i due dataset hanno molte colonne in comune, ma anche alcune differenze.\n",
    "\n",
    "Proviamo comunque ad integrare le due tabelle, creandone una terza che metta insieme i dati della prima e quelli della seconda. \n",
    "\n",
    "**tip**\n",
    "Dovete \"concatenare\" i due dataFrame di pandas. \n",
    "\n",
    "Provate a cercare la funzione corretta e scrivete il codice necessario. "
   ]
  },
  {
   "cell_type": "code",
   "execution_count": null,
   "metadata": {
    "id": "GnEs8g0xaqur"
   },
   "outputs": [],
   "source": [
    "# ... completare qui ..."
   ]
  },
  {
   "cell_type": "markdown",
   "metadata": {
    "id": "WgIdPJmrbdQZ"
   },
   "source": [
    "Adesso, stampiamo un po' di informazioni sul dataset integrato (come ad esempio le dimensioni) e diamo un'occhiata allo schema."
   ]
  },
  {
   "cell_type": "code",
   "execution_count": null,
   "metadata": {
    "id": "sOrZSZEDbgoJ"
   },
   "outputs": [],
   "source": [
    "# ... completare qui ..."
   ]
  },
  {
   "cell_type": "markdown",
   "metadata": {
    "id": "VUa9TszxNSmi"
   },
   "source": [
    "Nonostante le differenze tra le due tabelle, la funzione concat concatena le due tabelle, mettendo a Null i valori delle colonne presenti solo in una delle due ed in corrispondenza delle righe provenienti dal dataset in cui la colonna non è presente. Proviamo a verificare la presenza di Null"
   ]
  },
  {
   "cell_type": "code",
   "execution_count": null,
   "metadata": {
    "id": "q9fuN9QTNSmi"
   },
   "outputs": [],
   "source": [
    "# ... completare qui ..."
   ]
  },
  {
   "cell_type": "markdown",
   "metadata": {
    "id": "S31N_EwqNSmi"
   },
   "source": [
    "Ad esempio la colonna **listed_in**, che è presente solo in netflix_titles, ha 1070 valori Null, che corrisponde al numero di righe della tabella disney_titles. "
   ]
  },
  {
   "cell_type": "markdown",
   "metadata": {
    "id": "A1binP2ENSmi"
   },
   "source": [
    "Decidiamo di eliminare eventuali colonne non comuni. Possiamo farlo **prima** dell'integrazione, oppure direttamente sulla tabella concatenata. "
   ]
  },
  {
   "cell_type": "markdown",
   "metadata": {
    "id": "rBxNAttwNSmi"
   },
   "source": [
    "**Tip**: confrontate i due schemi per capire quali siano le colonne non comuni. Attenzione!!! Potrebbero anche esserci colonne che sembrano non comuni, ma in realtà contengono la stessa tipologia di informazione e hanno solo nomi diversi!!"
   ]
  },
  {
   "cell_type": "code",
   "execution_count": null,
   "metadata": {
    "id": "GSR1g0gSNSmi"
   },
   "outputs": [],
   "source": [
    "# ... completare qui ..."
   ]
  },
  {
   "cell_type": "markdown",
   "metadata": {
    "id": "AnmjnMpRNSmj"
   },
   "source": [
    "Andiamo ora alla ricerca di eventuali colonne che contengono la stessa informazione. Guardate in particolare (type, show_type),  (contry, production_countries), (date_added, from)"
   ]
  },
  {
   "cell_type": "code",
   "execution_count": null,
   "metadata": {
    "id": "zteaVSdnNSmj"
   },
   "outputs": [],
   "source": [
    "# ...completare qui ..."
   ]
  },
  {
   "cell_type": "markdown",
   "metadata": {
    "id": "29LGKkt2NSmj"
   },
   "source": [
    "Infine, ci sono colonne che già ora possiamo giudicare inutili?\n",
    "\n",
    "per buttare via una colonna, usiamo la funzione drop di pandas "
   ]
  },
  {
   "cell_type": "code",
   "execution_count": null,
   "metadata": {
    "id": "HVNsjHiKNSmj"
   },
   "outputs": [],
   "source": [
    "# ...completare qui ..."
   ]
  },
  {
   "cell_type": "markdown",
   "metadata": {
    "id": "Vb5EMhQSZV9j"
   },
   "source": [
    "### Carichiamo altre due tabelle, che forniscono fonti di informazioni aggiuntive"
   ]
  },
  {
   "cell_type": "code",
   "execution_count": null,
   "metadata": {
    "id": "xNhJkeO8ZV9j"
   },
   "outputs": [],
   "source": [
    "netflix_credits = pd.read_csv(\"netflix_credits.csv\")\n",
    "disney_credits = pd.read_csv(\"disney_credits.csv\")"
   ]
  },
  {
   "cell_type": "markdown",
   "metadata": {
    "id": "0HutxQdgccHo"
   },
   "source": [
    "come sempre, stampiamo le prime righe di ciascun dataFrame "
   ]
  },
  {
   "cell_type": "code",
   "execution_count": null,
   "metadata": {
    "id": "H4y2GU8dZV9j"
   },
   "outputs": [],
   "source": [
    "netflix_credits.head()\n"
   ]
  },
  {
   "cell_type": "code",
   "execution_count": null,
   "metadata": {
    "id": "ABJCMEkdcjHZ"
   },
   "outputs": [],
   "source": [
    "disney_credits.head()"
   ]
  },
  {
   "cell_type": "markdown",
   "metadata": {
    "id": "70SWWdYzZV9j"
   },
   "source": [
    "Possiamo osservare che le tabelle credits e titles, hanno informazioni complementari.  In particolare, credits riporta delle informazinoi aggiuntive riguardanti attori e carattere interpretato. "
   ]
  },
  {
   "cell_type": "markdown",
   "metadata": {
    "id": "F2V9spDlNSmk"
   },
   "source": [
    "Come prima, procediamo con l'integrazione delle due tabelle, che questa volta è più facile (lo schema è proprio lo stesso!)"
   ]
  },
  {
   "cell_type": "code",
   "execution_count": null,
   "metadata": {
    "id": "cL_PStFsNSmk"
   },
   "outputs": [],
   "source": [
    "#completare qui "
   ]
  },
  {
   "cell_type": "markdown",
   "metadata": {
    "id": "bn2-knciNSmk"
   },
   "source": [
    "Data la complementarietà delle informazioni che troviamo nelle cartelle titles e credits, possiamo decidere di fare un **join** tra le due tabelle, per includere tutte le informazioni in un unico dataset. \n"
   ]
  },
  {
   "cell_type": "code",
   "execution_count": null,
   "metadata": {
    "id": "oOPshZZFZV9j"
   },
   "outputs": [],
   "source": [
    "# ...completare qui usando la funzione merge per fare il join"
   ]
  },
  {
   "cell_type": "markdown",
   "metadata": {
    "id": "k-q96gyMdTv7"
   },
   "source": [
    "verifichiamo cosa sia successo guardando le dimensioni di ciascun dataframe"
   ]
  },
  {
   "cell_type": "code",
   "execution_count": null,
   "metadata": {
    "id": "rMi4zVX4dWjV"
   },
   "outputs": [],
   "source": [
    "#completare qui "
   ]
  },
  {
   "cell_type": "markdown",
   "metadata": {
    "id": "lJCbPSjPdi6t"
   },
   "source": [
    "vi tornano le dimensioni?"
   ]
  },
  {
   "cell_type": "code",
   "execution_count": null,
   "metadata": {
    "id": "vBDmqgPHdcHe"
   },
   "outputs": [],
   "source": [
    "final_table.head()"
   ]
  },
  {
   "cell_type": "code",
   "execution_count": null,
   "metadata": {
    "id": "tCbnL0GteRBu"
   },
   "outputs": [],
   "source": [
    "print(final_table.columns)"
   ]
  },
  {
   "cell_type": "markdown",
   "metadata": {
    "id": "GUUSplPleVfj"
   },
   "source": [
    "e visualizziamo gli eventuali elementi mancanti"
   ]
  },
  {
   "cell_type": "code",
   "execution_count": null,
   "metadata": {
    "id": "75NrhkX2eawX"
   },
   "outputs": [],
   "source": [
    "final_table.isnull().sum()"
   ]
  },
  {
   "cell_type": "markdown",
   "metadata": {
    "id": "cvqfIQfrfcpm"
   },
   "source": [
    "concentriamoci sulla colonna date_added, intanto visualizzandola:"
   ]
  },
  {
   "cell_type": "code",
   "execution_count": null,
   "metadata": {
    "id": "2zTGFy67fiFE"
   },
   "outputs": [],
   "source": [
    "#completare qui "
   ]
  },
  {
   "cell_type": "markdown",
   "metadata": {
    "id": "az3xlX6FfqfU"
   },
   "source": [
    "vediamo che giorni mesi e anni sono presenti. Potrebbe essere utile, però, separare queste informazioni, incorporandole in tre colonne diverse. "
   ]
  },
  {
   "cell_type": "markdown",
   "metadata": {
    "id": "491M0dHYgHjN"
   },
   "source": [
    "Facciamolo insieme, con due diversi passi:\n",
    "\n",
    "1. dobbiamo trasformare questa colonna in formato 'datetime' utilizzando la funzione di pandas 'to_datetime'"
   ]
  },
  {
   "cell_type": "code",
   "execution_count": null,
   "metadata": {
    "id": "XnT_PqJMfwVC"
   },
   "outputs": [],
   "source": [
    "#completare qui "
   ]
  },
  {
   "cell_type": "code",
   "execution_count": null,
   "metadata": {
    "id": "clsUuXUlgEWX"
   },
   "outputs": [],
   "source": [
    "print(final_table['date_added'])"
   ]
  },
  {
   "cell_type": "markdown",
   "metadata": {
    "id": "Tc-ZdT3xgTpW"
   },
   "source": [
    "poi, possiamo separare le varie entrate in tre nuove colonne, che si chiameranno day, month e year. Bisogna fare colonna.dt.year e cambiare poi l'ultimo metodo "
   ]
  },
  {
   "cell_type": "code",
   "execution_count": null,
   "metadata": {
    "id": "ux4LoOeEgZvX"
   },
   "outputs": [],
   "source": [
    "#completare qui "
   ]
  },
  {
   "cell_type": "markdown",
   "metadata": {
    "id": "E0F5obochLBn"
   },
   "source": [
    "ora visualizziamo il risultato"
   ]
  },
  {
   "cell_type": "code",
   "execution_count": null,
   "metadata": {
    "id": "5iD8Tx4phNLw"
   },
   "outputs": [],
   "source": [
    "final_table.head()"
   ]
  },
  {
   "cell_type": "markdown",
   "metadata": {
    "id": "78UR3HdDhzbU"
   },
   "source": [
    "ora creiamo una copia della tabella, contenente soltanto i film.\n"
   ]
  },
  {
   "cell_type": "code",
   "execution_count": null,
   "metadata": {
    "id": "Tqced5m5pc3I"
   },
   "outputs": [],
   "source": [
    "#completare qui "
   ]
  },
  {
   "cell_type": "markdown",
   "metadata": {
    "id": "Z6VJ79D-rOpN"
   },
   "source": [
    "a questo punto, possiamo modificare la durata in ore, per prima cosa eliminiamo la parola minuti "
   ]
  },
  {
   "cell_type": "code",
   "execution_count": null,
   "metadata": {
    "id": "kX-nZ_uuqfJ0"
   },
   "outputs": [],
   "source": [
    "#completare qui "
   ]
  },
  {
   "cell_type": "markdown",
   "metadata": {
    "id": "0zJvzJTBrUGc"
   },
   "source": [
    "quindi dividere per 60 (dopo conversione float)"
   ]
  },
  {
   "cell_type": "code",
   "execution_count": null,
   "metadata": {
    "id": "c6qvwq79rWoC"
   },
   "outputs": [],
   "source": [
    "#completare qui "
   ]
  },
  {
   "cell_type": "markdown",
   "metadata": {
    "id": "uwyl2zc2rkEj"
   },
   "source": [
    "e finalmente, aggiungere un suffisso per indicare le ore, per esempio 'hours', tornando a stringa"
   ]
  },
  {
   "cell_type": "code",
   "execution_count": null,
   "metadata": {
    "id": "DpMqGoB-ro4Z"
   },
   "outputs": [],
   "source": [
    "#completare qui "
   ]
  },
  {
   "cell_type": "markdown",
   "metadata": {
    "id": "Xt1P2LRDrzM3"
   },
   "source": [
    "stampiamo il risultato finale "
   ]
  },
  {
   "cell_type": "code",
   "execution_count": null,
   "metadata": {
    "id": "5kPidNo8r0d2"
   },
   "outputs": [],
   "source": [
    "print(movies['duration'])"
   ]
  },
  {
   "cell_type": "markdown",
   "metadata": {
    "id": "G712OMBtezly"
   },
   "source": [
    "concentriamoci sulla colonna release_year. Innanzitutto eliminiamo le righe dove questa informazinoe non sia presente. Usiamo la funzione dropna di pandas \n",
    "dropna(axis = , subset = [nome colonna])"
   ]
  },
  {
   "cell_type": "code",
   "execution_count": null,
   "metadata": {
    "id": "f8j3ID7de6Qm"
   },
   "outputs": [],
   "source": [
    "#completare qui "
   ]
  },
  {
   "cell_type": "code",
   "execution_count": null,
   "metadata": {
    "id": "-nfeOBwUfAVp"
   },
   "outputs": [],
   "source": [
    "final_table_clean.isnull().sum()"
   ]
  }
 ],
 "metadata": {
  "accelerator": "GPU",
  "colab": {
   "provenance": []
  },
  "gpuClass": "standard",
  "kernelspec": {
   "display_name": "Python 3 (ipykernel)",
   "language": "python",
   "name": "python3"
  },
  "language_info": {
   "codemirror_mode": {
    "name": "ipython",
    "version": 3
   },
   "file_extension": ".py",
   "mimetype": "text/x-python",
   "name": "python",
   "nbconvert_exporter": "python",
   "pygments_lexer": "ipython3",
   "version": "3.10.12"
  }
 },
 "nbformat": 4,
 "nbformat_minor": 4
}
